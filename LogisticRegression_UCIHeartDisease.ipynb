{
 "cells": [
  {
   "cell_type": "code",
   "execution_count": 73,
   "metadata": {},
   "outputs": [],
   "source": [
    "#Necessary imports\n",
    "import numpy as np\n",
    "import pandas as pd\n",
    "import matplotlib.pyplot as plt\n",
    "import seaborn as sns"
   ]
  },
  {
   "cell_type": "code",
   "execution_count": 74,
   "metadata": {},
   "outputs": [],
   "source": [
    "#Load dataset\n",
    "data = pd.read_csv('heart.csv')"
   ]
  },
  {
   "cell_type": "code",
   "execution_count": 75,
   "metadata": {},
   "outputs": [
    {
     "data": {
      "text/html": [
       "<div>\n",
       "<style scoped>\n",
       "    .dataframe tbody tr th:only-of-type {\n",
       "        vertical-align: middle;\n",
       "    }\n",
       "\n",
       "    .dataframe tbody tr th {\n",
       "        vertical-align: top;\n",
       "    }\n",
       "\n",
       "    .dataframe thead th {\n",
       "        text-align: right;\n",
       "    }\n",
       "</style>\n",
       "<table border=\"1\" class=\"dataframe\">\n",
       "  <thead>\n",
       "    <tr style=\"text-align: right;\">\n",
       "      <th></th>\n",
       "      <th>age</th>\n",
       "      <th>sex</th>\n",
       "      <th>cp</th>\n",
       "      <th>trestbps</th>\n",
       "      <th>chol</th>\n",
       "      <th>fbs</th>\n",
       "      <th>restecg</th>\n",
       "      <th>thalach</th>\n",
       "      <th>exang</th>\n",
       "      <th>oldpeak</th>\n",
       "      <th>slope</th>\n",
       "      <th>ca</th>\n",
       "      <th>thal</th>\n",
       "      <th>target</th>\n",
       "    </tr>\n",
       "  </thead>\n",
       "  <tbody>\n",
       "    <tr>\n",
       "      <th>0</th>\n",
       "      <td>63</td>\n",
       "      <td>1</td>\n",
       "      <td>3</td>\n",
       "      <td>145</td>\n",
       "      <td>233</td>\n",
       "      <td>1</td>\n",
       "      <td>0</td>\n",
       "      <td>150</td>\n",
       "      <td>0</td>\n",
       "      <td>2.3</td>\n",
       "      <td>0</td>\n",
       "      <td>0</td>\n",
       "      <td>1</td>\n",
       "      <td>1</td>\n",
       "    </tr>\n",
       "    <tr>\n",
       "      <th>1</th>\n",
       "      <td>37</td>\n",
       "      <td>1</td>\n",
       "      <td>2</td>\n",
       "      <td>130</td>\n",
       "      <td>250</td>\n",
       "      <td>0</td>\n",
       "      <td>1</td>\n",
       "      <td>187</td>\n",
       "      <td>0</td>\n",
       "      <td>3.5</td>\n",
       "      <td>0</td>\n",
       "      <td>0</td>\n",
       "      <td>2</td>\n",
       "      <td>1</td>\n",
       "    </tr>\n",
       "    <tr>\n",
       "      <th>2</th>\n",
       "      <td>41</td>\n",
       "      <td>0</td>\n",
       "      <td>1</td>\n",
       "      <td>130</td>\n",
       "      <td>204</td>\n",
       "      <td>0</td>\n",
       "      <td>0</td>\n",
       "      <td>172</td>\n",
       "      <td>0</td>\n",
       "      <td>1.4</td>\n",
       "      <td>2</td>\n",
       "      <td>0</td>\n",
       "      <td>2</td>\n",
       "      <td>1</td>\n",
       "    </tr>\n",
       "    <tr>\n",
       "      <th>3</th>\n",
       "      <td>56</td>\n",
       "      <td>1</td>\n",
       "      <td>1</td>\n",
       "      <td>120</td>\n",
       "      <td>236</td>\n",
       "      <td>0</td>\n",
       "      <td>1</td>\n",
       "      <td>178</td>\n",
       "      <td>0</td>\n",
       "      <td>0.8</td>\n",
       "      <td>2</td>\n",
       "      <td>0</td>\n",
       "      <td>2</td>\n",
       "      <td>1</td>\n",
       "    </tr>\n",
       "    <tr>\n",
       "      <th>4</th>\n",
       "      <td>57</td>\n",
       "      <td>0</td>\n",
       "      <td>0</td>\n",
       "      <td>120</td>\n",
       "      <td>354</td>\n",
       "      <td>0</td>\n",
       "      <td>1</td>\n",
       "      <td>163</td>\n",
       "      <td>1</td>\n",
       "      <td>0.6</td>\n",
       "      <td>2</td>\n",
       "      <td>0</td>\n",
       "      <td>2</td>\n",
       "      <td>1</td>\n",
       "    </tr>\n",
       "  </tbody>\n",
       "</table>\n",
       "</div>"
      ],
      "text/plain": [
       "   age  sex  cp  trestbps  chol  fbs  restecg  thalach  exang  oldpeak  slope  \\\n",
       "0   63    1   3       145   233    1        0      150      0      2.3      0   \n",
       "1   37    1   2       130   250    0        1      187      0      3.5      0   \n",
       "2   41    0   1       130   204    0        0      172      0      1.4      2   \n",
       "3   56    1   1       120   236    0        1      178      0      0.8      2   \n",
       "4   57    0   0       120   354    0        1      163      1      0.6      2   \n",
       "\n",
       "   ca  thal  target  \n",
       "0   0     1       1  \n",
       "1   0     2       1  \n",
       "2   0     2       1  \n",
       "3   0     2       1  \n",
       "4   0     2       1  "
      ]
     },
     "execution_count": 75,
     "metadata": {},
     "output_type": "execute_result"
    }
   ],
   "source": [
    "data.head()"
   ]
  },
  {
   "cell_type": "code",
   "execution_count": 76,
   "metadata": {},
   "outputs": [
    {
     "data": {
      "text/plain": [
       "(303, 14)"
      ]
     },
     "execution_count": 76,
     "metadata": {},
     "output_type": "execute_result"
    }
   ],
   "source": [
    "data.shape"
   ]
  },
  {
   "cell_type": "code",
   "execution_count": 77,
   "metadata": {},
   "outputs": [
    {
     "name": "stdout",
     "output_type": "stream",
     "text": [
      "<class 'pandas.core.frame.DataFrame'>\n",
      "RangeIndex: 303 entries, 0 to 302\n",
      "Data columns (total 14 columns):\n",
      "age         303 non-null int64\n",
      "sex         303 non-null int64\n",
      "cp          303 non-null int64\n",
      "trestbps    303 non-null int64\n",
      "chol        303 non-null int64\n",
      "fbs         303 non-null int64\n",
      "restecg     303 non-null int64\n",
      "thalach     303 non-null int64\n",
      "exang       303 non-null int64\n",
      "oldpeak     303 non-null float64\n",
      "slope       303 non-null int64\n",
      "ca          303 non-null int64\n",
      "thal        303 non-null int64\n",
      "target      303 non-null int64\n",
      "dtypes: float64(1), int64(13)\n",
      "memory usage: 33.2 KB\n"
     ]
    }
   ],
   "source": [
    "data.info()"
   ]
  },
  {
   "cell_type": "code",
   "execution_count": 69,
   "metadata": {},
   "outputs": [
    {
     "data": {
      "text/plain": [
       "1    165\n",
       "0    138\n",
       "Name: target, dtype: int64"
      ]
     },
     "execution_count": 69,
     "metadata": {},
     "output_type": "execute_result"
    }
   ],
   "source": [
    "#Check Binary / Multiclass target\n",
    "data.target.value_counts()"
   ]
  },
  {
   "cell_type": "code",
   "execution_count": 70,
   "metadata": {},
   "outputs": [
    {
     "data": {
      "text/plain": [
       "Index(['age', 'sex', 'cp', 'trestbps', 'chol', 'fbs', 'restecg', 'thalach',\n",
       "       'exang', 'oldpeak', 'slope', 'ca', 'thal', 'target'],\n",
       "      dtype='object')"
      ]
     },
     "execution_count": 70,
     "metadata": {},
     "output_type": "execute_result"
    }
   ],
   "source": [
    "data.columns"
   ]
  },
  {
   "cell_type": "code",
   "execution_count": 71,
   "metadata": {},
   "outputs": [
    {
     "data": {
      "image/png": "[encoded data removed]",
      "text/plain": [
       "<Figure size 1080x360 with 1 Axes>"
      ]
     },
     "metadata": {
      "needs_background": "light"
     },
     "output_type": "display_data"
    },
    {
     "data": {
      "image/png": "[encoded data removed]",
      "text/plain": [
       "<Figure size 1080x360 with 1 Axes>"
      ]
     },
     "metadata": {
      "needs_background": "light"
     },
     "output_type": "display_data"
    },
    {
     "data": {
      "image/png": "[encoded data removed]",
      "text/plain": [
       "<Figure size 1080x360 with 1 Axes>"
      ]
     },
     "metadata": {
      "needs_background": "light"
     },
     "output_type": "display_data"
    },
    {
     "data": {
      "image/png": "[encoded data removed]",
      "text/plain": [
       "<Figure size 1080x360 with 1 Axes>"
      ]
     },
     "metadata": {
      "needs_background": "light"
     },
     "output_type": "display_data"
    },
    {
     "data": {
      "image/png": "[encoded data removed]",
      "text/plain": [
       "<Figure size 1080x360 with 1 Axes>"
      ]
     },
     "metadata": {
      "needs_background": "light"
     },
     "output_type": "display_data"
    },
    {
     "data": {
      "image/png": "[encoded data removed]",
      "text/plain": [
       "<Figure size 1080x360 with 1 Axes>"
      ]
     },
     "metadata": {
      "needs_background": "light"
     },
     "output_type": "display_data"
    },
    {
     "data": {
      "image/png": "[encoded data removed]",
      "text/plain": [
       "<Figure size 1080x360 with 1 Axes>"
      ]
     },
     "metadata": {
      "needs_background": "light"
     },
     "output_type": "display_data"
    },
    {
     "data": {
      "image/png": "[encoded data removed]",
      "text/plain": [
       "<Figure size 1080x360 with 1 Axes>"
      ]
     },
     "metadata": {
      "needs_background": "light"
     },
     "output_type": "display_data"
    },
    {
     "data": {
      "image/png": "[encoded data removed]",
      "text/plain": [
       "<Figure size 1080x360 with 1 Axes>"
      ]
     },
     "metadata": {
      "needs_background": "light"
     },
     "output_type": "display_data"
    },
    {
     "data": {
      "image/png": "[encoded data removed]",
      "text/plain": [
       "<Figure size 1080x360 with 1 Axes>"
      ]
     },
     "metadata": {
      "needs_background": "light"
     },
     "output_type": "display_data"
    },
    {
     "data": {
      "image/png": "[encoded data removed]",
      "text/plain": [
       "<Figure size 1080x360 with 1 Axes>"
      ]
     },
     "metadata": {
      "needs_background": "light"
     },
     "output_type": "display_data"
    },
    {
     "data": {
      "image/png": "[encoded data removed]",
      "text/plain": [
       "<Figure size 1080x360 with 1 Axes>"
      ]
     },
     "metadata": {
      "needs_background": "light"
     },
     "output_type": "display_data"
    },
    {
     "data": {
      "image/png": "[encoded data removed]",
      "text/plain": [
       "<Figure size 1080x360 with 1 Axes>"
      ]
     },
     "metadata": {
      "needs_background": "light"
     },
     "output_type": "display_data"
    },
    {
     "data": {
      "image/png": "[encoded data removed]",
      "text/plain": [
       "<Figure size 1080x360 with 1 Axes>"
      ]
     },
     "metadata": {
      "needs_background": "light"
     },
     "output_type": "display_data"
    }
   ],
   "source": [
    "#Check Distibution of the datasets\n",
    "cols=['age', 'sex', 'cp', 'trestbps', 'chol', 'fbs', 'restecg', 'thalach',\n",
    "       'exang', 'oldpeak', 'slope', 'ca', 'thal', 'target']\n",
    "for column in cols:\n",
    "    plt.figure(figsize = (15,5))\n",
    "    sns.distplot(data[column])\n",
    "    plt.show()"
   ]
  },
  {
   "cell_type": "code",
   "execution_count": 72,
   "metadata": {},
   "outputs": [
    {
     "data": {
      "text/plain": [
       "age        -0.202463\n",
       "sex        -0.791335\n",
       "cp          0.484732\n",
       "trestbps    0.713768\n",
       "chol        1.143401\n",
       "fbs         1.986652\n",
       "restecg     0.162522\n",
       "thalach    -0.537410\n",
       "exang       0.742532\n",
       "oldpeak     1.269720\n",
       "slope      -0.508316\n",
       "ca          1.310422\n",
       "thal       -0.476722\n",
       "target     -0.179821\n",
       "dtype: float64"
      ]
     },
     "execution_count": 72,
     "metadata": {},
     "output_type": "execute_result"
    }
   ],
   "source": [
    "data.skew()"
   ]
  },
  {
   "cell_type": "code",
   "execution_count": 43,
   "metadata": {},
   "outputs": [],
   "source": [
    "#Feature and target split\n",
    "y = data['target']\n",
    "X = data.drop(['target'],axis=1)"
   ]
  },
  {
   "cell_type": "code",
   "execution_count": 44,
   "metadata": {},
   "outputs": [
    {
     "name": "stderr",
     "output_type": "stream",
     "text": [
      "C:\\Users\\Bhuvana\\Anaconda3\\lib\\site-packages\\sklearn\\preprocessing\\data.py:645: DataConversionWarning: Data with input dtype int64, float64 were all converted to float64 by StandardScaler.\n",
      "  return self.partial_fit(X, y)\n",
      "C:\\Users\\Bhuvana\\Anaconda3\\lib\\site-packages\\sklearn\\base.py:464: DataConversionWarning: Data with input dtype int64, float64 were all converted to float64 by StandardScaler.\n",
      "  return self.fit(X, **fit_params).transform(X)\n"
     ]
    },
    {
     "data": {
      "text/plain": [
       "array([[ 0.9521966 ,  0.68100522,  1.97312292, ..., -2.27457861,\n",
       "        -0.71442887, -2.14887271],\n",
       "       [-1.91531289,  0.68100522,  1.00257707, ..., -2.27457861,\n",
       "        -0.71442887, -0.51292188],\n",
       "       [-1.47415758, -1.46841752,  0.03203122, ...,  0.97635214,\n",
       "        -0.71442887, -0.51292188],\n",
       "       ...,\n",
       "       [ 1.50364073,  0.68100522, -0.93851463, ..., -0.64911323,\n",
       "         1.24459328,  1.12302895],\n",
       "       [ 0.29046364,  0.68100522, -0.93851463, ..., -0.64911323,\n",
       "         0.26508221,  1.12302895],\n",
       "       [ 0.29046364, -1.46841752,  0.03203122, ..., -0.64911323,\n",
       "         0.26508221, -0.51292188]])"
      ]
     },
     "execution_count": 44,
     "metadata": {},
     "output_type": "execute_result"
    }
   ],
   "source": [
    "from sklearn.preprocessing import StandardScaler,PowerTransformer\n",
    "scaler = StandardScaler()\n",
    "X=scaler.fit_transform(X)\n",
    "X"
   ]
  },
  {
   "cell_type": "code",
   "execution_count": 78,
   "metadata": {},
   "outputs": [],
   "source": [
    "power = PowerTransformer()\n",
    "X = pd.DataFrame(power.fit_transform(X))"
   ]
  },
  {
   "cell_type": "code",
   "execution_count": 79,
   "metadata": {},
   "outputs": [
    {
     "data": {
      "text/html": [
       "<div>\n",
       "<style scoped>\n",
       "    .dataframe tbody tr th:only-of-type {\n",
       "        vertical-align: middle;\n",
       "    }\n",
       "\n",
       "    .dataframe tbody tr th {\n",
       "        vertical-align: top;\n",
       "    }\n",
       "\n",
       "    .dataframe thead th {\n",
       "        text-align: right;\n",
       "    }\n",
       "</style>\n",
       "<table border=\"1\" class=\"dataframe\">\n",
       "  <thead>\n",
       "    <tr style=\"text-align: right;\">\n",
       "      <th></th>\n",
       "      <th>0</th>\n",
       "      <th>1</th>\n",
       "      <th>2</th>\n",
       "      <th>3</th>\n",
       "      <th>4</th>\n",
       "      <th>5</th>\n",
       "      <th>6</th>\n",
       "      <th>7</th>\n",
       "      <th>8</th>\n",
       "      <th>9</th>\n",
       "      <th>10</th>\n",
       "      <th>11</th>\n",
       "      <th>12</th>\n",
       "    </tr>\n",
       "  </thead>\n",
       "  <tbody>\n",
       "    <tr>\n",
       "      <th>0</th>\n",
       "      <td>0.957552</td>\n",
       "      <td>0.681005</td>\n",
       "      <td>1.644531</td>\n",
       "      <td>0.829325</td>\n",
       "      <td>-0.147715</td>\n",
       "      <td>2.394438</td>\n",
       "      <td>-1.011474</td>\n",
       "      <td>-0.109589</td>\n",
       "      <td>-0.696631</td>\n",
       "      <td>1.198207</td>\n",
       "      <td>-1.929035</td>\n",
       "      <td>-0.830347</td>\n",
       "      <td>-1.991939</td>\n",
       "    </tr>\n",
       "    <tr>\n",
       "      <th>1</th>\n",
       "      <td>-1.800982</td>\n",
       "      <td>0.681005</td>\n",
       "      <td>1.052848</td>\n",
       "      <td>0.026271</td>\n",
       "      <td>0.207360</td>\n",
       "      <td>-0.417635</td>\n",
       "      <td>0.910256</td>\n",
       "      <td>1.921453</td>\n",
       "      <td>-0.696631</td>\n",
       "      <td>1.672581</td>\n",
       "      <td>-1.929035</td>\n",
       "      <td>-0.830347</td>\n",
       "      <td>-0.562095</td>\n",
       "    </tr>\n",
       "    <tr>\n",
       "      <th>2</th>\n",
       "      <td>-1.421437</td>\n",
       "      <td>-1.468418</td>\n",
       "      <td>0.253062</td>\n",
       "      <td>0.026271</td>\n",
       "      <td>-0.838841</td>\n",
       "      <td>-0.417635</td>\n",
       "      <td>-1.011474</td>\n",
       "      <td>1.020805</td>\n",
       "      <td>-0.696631</td>\n",
       "      <td>0.658184</td>\n",
       "      <td>1.018742</td>\n",
       "      <td>-0.830347</td>\n",
       "      <td>-0.562095</td>\n",
       "    </tr>\n",
       "    <tr>\n",
       "      <th>3</th>\n",
       "      <td>0.127531</td>\n",
       "      <td>0.681005</td>\n",
       "      <td>0.253062</td>\n",
       "      <td>-0.631568</td>\n",
       "      <td>-0.082102</td>\n",
       "      <td>-0.417635</td>\n",
       "      <td>0.910256</td>\n",
       "      <td>1.370116</td>\n",
       "      <td>-0.696631</td>\n",
       "      <td>0.088204</td>\n",
       "      <td>1.018742</td>\n",
       "      <td>-0.830347</td>\n",
       "      <td>-0.562095</td>\n",
       "    </tr>\n",
       "    <tr>\n",
       "      <th>4</th>\n",
       "      <td>0.241950</td>\n",
       "      <td>-1.468418</td>\n",
       "      <td>-0.993532</td>\n",
       "      <td>-0.631568</td>\n",
       "      <td>1.826326</td>\n",
       "      <td>-0.417635</td>\n",
       "      <td>0.910256</td>\n",
       "      <td>0.527343</td>\n",
       "      <td>1.435481</td>\n",
       "      <td>-0.164314</td>\n",
       "      <td>1.018742</td>\n",
       "      <td>-0.830347</td>\n",
       "      <td>-0.562095</td>\n",
       "    </tr>\n",
       "    <tr>\n",
       "      <th>5</th>\n",
       "      <td>0.241950</td>\n",
       "      <td>0.681005</td>\n",
       "      <td>-0.993532</td>\n",
       "      <td>0.581329</td>\n",
       "      <td>-1.151812</td>\n",
       "      <td>-0.417635</td>\n",
       "      <td>0.910256</td>\n",
       "      <td>-0.198221</td>\n",
       "      <td>-0.696631</td>\n",
       "      <td>-0.449342</td>\n",
       "      <td>-0.743940</td>\n",
       "      <td>-0.830347</td>\n",
       "      <td>-1.991939</td>\n",
       "    </tr>\n",
       "    <tr>\n",
       "      <th>6</th>\n",
       "      <td>0.127531</td>\n",
       "      <td>-1.468418</td>\n",
       "      <td>0.253062</td>\n",
       "      <td>0.581329</td>\n",
       "      <td>0.973014</td>\n",
       "      <td>-0.417635</td>\n",
       "      <td>-1.011474</td>\n",
       "      <td>0.028378</td>\n",
       "      <td>-0.696631</td>\n",
       "      <td>0.579853</td>\n",
       "      <td>-0.743940</td>\n",
       "      <td>-0.830347</td>\n",
       "      <td>-0.562095</td>\n",
       "    </tr>\n",
       "    <tr>\n",
       "      <th>7</th>\n",
       "      <td>-1.129851</td>\n",
       "      <td>0.681005</td>\n",
       "      <td>0.253062</td>\n",
       "      <td>-0.631568</td>\n",
       "      <td>0.452449</td>\n",
       "      <td>-0.417635</td>\n",
       "      <td>0.910256</td>\n",
       "      <td>1.077948</td>\n",
       "      <td>-0.696631</td>\n",
       "      <td>-1.116429</td>\n",
       "      <td>1.018742</td>\n",
       "      <td>-0.830347</td>\n",
       "      <td>1.160190</td>\n",
       "    </tr>\n",
       "    <tr>\n",
       "      <th>8</th>\n",
       "      <td>-0.312898</td>\n",
       "      <td>0.681005</td>\n",
       "      <td>1.052848</td>\n",
       "      <td>1.980520</td>\n",
       "      <td>-0.967471</td>\n",
       "      <td>2.394438</td>\n",
       "      <td>0.910256</td>\n",
       "      <td>0.474967</td>\n",
       "      <td>-0.696631</td>\n",
       "      <td>-0.302773</td>\n",
       "      <td>1.018742</td>\n",
       "      <td>-0.830347</td>\n",
       "      <td>1.160190</td>\n",
       "    </tr>\n",
       "    <tr>\n",
       "      <th>9</th>\n",
       "      <td>0.241950</td>\n",
       "      <td>0.681005</td>\n",
       "      <td>1.052848</td>\n",
       "      <td>1.063436</td>\n",
       "      <td>-1.819085</td>\n",
       "      <td>-0.417635</td>\n",
       "      <td>0.910256</td>\n",
       "      <td>1.135529</td>\n",
       "      <td>-0.696631</td>\n",
       "      <td>0.800916</td>\n",
       "      <td>1.018742</td>\n",
       "      <td>-0.830347</td>\n",
       "      <td>-0.562095</td>\n",
       "    </tr>\n",
       "    <tr>\n",
       "      <th>10</th>\n",
       "      <td>-0.096197</td>\n",
       "      <td>0.681005</td>\n",
       "      <td>-0.993532</td>\n",
       "      <td>0.581329</td>\n",
       "      <td>-0.017710</td>\n",
       "      <td>-0.417635</td>\n",
       "      <td>0.910256</td>\n",
       "      <td>0.371792</td>\n",
       "      <td>-0.696631</td>\n",
       "      <td>0.495995</td>\n",
       "      <td>1.018742</td>\n",
       "      <td>-0.830347</td>\n",
       "      <td>-0.562095</td>\n",
       "    </tr>\n",
       "    <tr>\n",
       "      <th>11</th>\n",
       "      <td>-0.729726</td>\n",
       "      <td>-1.468418</td>\n",
       "      <td>1.052848</td>\n",
       "      <td>0.026271</td>\n",
       "      <td>0.663035</td>\n",
       "      <td>-0.417635</td>\n",
       "      <td>0.910256</td>\n",
       "      <td>-0.569212</td>\n",
       "      <td>-0.696631</td>\n",
       "      <td>-0.766751</td>\n",
       "      <td>1.018742</td>\n",
       "      <td>-0.830347</td>\n",
       "      <td>-0.562095</td>\n",
       "    </tr>\n",
       "    <tr>\n",
       "      <th>12</th>\n",
       "      <td>-0.627289</td>\n",
       "      <td>0.681005</td>\n",
       "      <td>0.253062</td>\n",
       "      <td>0.026271</td>\n",
       "      <td>0.506355</td>\n",
       "      <td>-0.417635</td>\n",
       "      <td>0.910256</td>\n",
       "      <td>0.964106</td>\n",
       "      <td>-0.696631</td>\n",
       "      <td>-0.164314</td>\n",
       "      <td>1.018742</td>\n",
       "      <td>-0.830347</td>\n",
       "      <td>-0.562095</td>\n",
       "    </tr>\n",
       "    <tr>\n",
       "      <th>13</th>\n",
       "      <td>1.080967</td>\n",
       "      <td>0.681005</td>\n",
       "      <td>1.644531</td>\n",
       "      <td>-1.375941</td>\n",
       "      <td>-0.663194</td>\n",
       "      <td>-0.417635</td>\n",
       "      <td>-1.011474</td>\n",
       "      <td>-0.368182</td>\n",
       "      <td>1.435481</td>\n",
       "      <td>0.928420</td>\n",
       "      <td>-0.743940</td>\n",
       "      <td>-0.830347</td>\n",
       "      <td>-0.562095</td>\n",
       "    </tr>\n",
       "    <tr>\n",
       "      <th>14</th>\n",
       "      <td>0.357905</td>\n",
       "      <td>-1.468418</td>\n",
       "      <td>1.644531</td>\n",
       "      <td>1.063436</td>\n",
       "      <td>0.796678</td>\n",
       "      <td>2.394438</td>\n",
       "      <td>-1.011474</td>\n",
       "      <td>0.474967</td>\n",
       "      <td>-0.696631</td>\n",
       "      <td>0.308068</td>\n",
       "      <td>1.018742</td>\n",
       "      <td>-0.830347</td>\n",
       "      <td>-0.562095</td>\n",
       "    </tr>\n",
       "    <tr>\n",
       "      <th>15</th>\n",
       "      <td>-0.523739</td>\n",
       "      <td>-1.468418</td>\n",
       "      <td>1.052848</td>\n",
       "      <td>-0.631568</td>\n",
       "      <td>-0.469086</td>\n",
       "      <td>-0.417635</td>\n",
       "      <td>0.910256</td>\n",
       "      <td>0.270787</td>\n",
       "      <td>-0.696631</td>\n",
       "      <td>0.800916</td>\n",
       "      <td>-0.743940</td>\n",
       "      <td>-0.830347</td>\n",
       "      <td>-0.562095</td>\n",
       "    </tr>\n",
       "    <tr>\n",
       "      <th>16</th>\n",
       "      <td>0.357905</td>\n",
       "      <td>-1.468418</td>\n",
       "      <td>1.052848</td>\n",
       "      <td>-0.631568</td>\n",
       "      <td>1.640338</td>\n",
       "      <td>-0.417635</td>\n",
       "      <td>0.910256</td>\n",
       "      <td>1.020805</td>\n",
       "      <td>-0.696631</td>\n",
       "      <td>-1.116429</td>\n",
       "      <td>1.018742</td>\n",
       "      <td>-0.830347</td>\n",
       "      <td>-0.562095</td>\n",
       "    </tr>\n",
       "    <tr>\n",
       "      <th>17</th>\n",
       "      <td>1.330853</td>\n",
       "      <td>-1.468418</td>\n",
       "      <td>1.644531</td>\n",
       "      <td>1.063436</td>\n",
       "      <td>-0.305367</td>\n",
       "      <td>-0.417635</td>\n",
       "      <td>0.910256</td>\n",
       "      <td>-1.448556</td>\n",
       "      <td>-0.696631</td>\n",
       "      <td>1.335218</td>\n",
       "      <td>-1.929035</td>\n",
       "      <td>-0.830347</td>\n",
       "      <td>-0.562095</td>\n",
       "    </tr>\n",
       "    <tr>\n",
       "      <th>18</th>\n",
       "      <td>-1.227777</td>\n",
       "      <td>0.681005</td>\n",
       "      <td>-0.993532</td>\n",
       "      <td>1.063436</td>\n",
       "      <td>0.147741</td>\n",
       "      <td>-0.417635</td>\n",
       "      <td>0.910256</td>\n",
       "      <td>0.964106</td>\n",
       "      <td>-0.696631</td>\n",
       "      <td>0.731682</td>\n",
       "      <td>1.018742</td>\n",
       "      <td>-0.830347</td>\n",
       "      <td>-0.562095</td>\n",
       "    </tr>\n",
       "    <tr>\n",
       "      <th>19</th>\n",
       "      <td>1.712711</td>\n",
       "      <td>-1.468418</td>\n",
       "      <td>1.644531</td>\n",
       "      <td>0.581329</td>\n",
       "      <td>-0.017710</td>\n",
       "      <td>-0.417635</td>\n",
       "      <td>0.910256</td>\n",
       "      <td>-0.064260</td>\n",
       "      <td>-0.696631</td>\n",
       "      <td>0.928420</td>\n",
       "      <td>1.018742</td>\n",
       "      <td>1.357580</td>\n",
       "      <td>-0.562095</td>\n",
       "    </tr>\n",
       "    <tr>\n",
       "      <th>20</th>\n",
       "      <td>0.475292</td>\n",
       "      <td>0.681005</td>\n",
       "      <td>-0.993532</td>\n",
       "      <td>0.315643</td>\n",
       "      <td>-0.125711</td>\n",
       "      <td>-0.417635</td>\n",
       "      <td>0.910256</td>\n",
       "      <td>0.423113</td>\n",
       "      <td>-0.696631</td>\n",
       "      <td>-0.302773</td>\n",
       "      <td>-0.743940</td>\n",
       "      <td>-0.830347</td>\n",
       "      <td>1.160190</td>\n",
       "    </tr>\n",
       "    <tr>\n",
       "      <th>21</th>\n",
       "      <td>-1.129851</td>\n",
       "      <td>0.681005</td>\n",
       "      <td>1.052848</td>\n",
       "      <td>0.026271</td>\n",
       "      <td>-0.147715</td>\n",
       "      <td>-0.417635</td>\n",
       "      <td>0.910256</td>\n",
       "      <td>1.429801</td>\n",
       "      <td>1.435481</td>\n",
       "      <td>-0.449342</td>\n",
       "      <td>1.018742</td>\n",
       "      <td>-0.830347</td>\n",
       "      <td>-0.562095</td>\n",
       "    </tr>\n",
       "    <tr>\n",
       "      <th>22</th>\n",
       "      <td>-1.324959</td>\n",
       "      <td>0.681005</td>\n",
       "      <td>-0.993532</td>\n",
       "      <td>0.581329</td>\n",
       "      <td>-0.305367</td>\n",
       "      <td>-0.417635</td>\n",
       "      <td>0.910256</td>\n",
       "      <td>1.370116</td>\n",
       "      <td>-0.696631</td>\n",
       "      <td>-1.116429</td>\n",
       "      <td>1.018742</td>\n",
       "      <td>-0.830347</td>\n",
       "      <td>-0.562095</td>\n",
       "    </tr>\n",
       "    <tr>\n",
       "      <th>23</th>\n",
       "      <td>0.714023</td>\n",
       "      <td>0.681005</td>\n",
       "      <td>1.052848</td>\n",
       "      <td>1.063436</td>\n",
       "      <td>0.066183</td>\n",
       "      <td>2.394438</td>\n",
       "      <td>0.910256</td>\n",
       "      <td>-0.646611</td>\n",
       "      <td>1.435481</td>\n",
       "      <td>0.308068</td>\n",
       "      <td>-0.743940</td>\n",
       "      <td>-0.830347</td>\n",
       "      <td>-0.562095</td>\n",
       "    </tr>\n",
       "    <tr>\n",
       "      <th>24</th>\n",
       "      <td>-1.517247</td>\n",
       "      <td>0.681005</td>\n",
       "      <td>1.644531</td>\n",
       "      <td>0.581329</td>\n",
       "      <td>-0.967471</td>\n",
       "      <td>-0.417635</td>\n",
       "      <td>0.910256</td>\n",
       "      <td>1.370116</td>\n",
       "      <td>1.435481</td>\n",
       "      <td>0.658184</td>\n",
       "      <td>1.018742</td>\n",
       "      <td>-0.830347</td>\n",
       "      <td>1.160190</td>\n",
       "    </tr>\n",
       "    <tr>\n",
       "      <th>25</th>\n",
       "      <td>1.971568</td>\n",
       "      <td>-1.468418</td>\n",
       "      <td>0.253062</td>\n",
       "      <td>1.499566</td>\n",
       "      <td>1.096534</td>\n",
       "      <td>-0.417635</td>\n",
       "      <td>0.910256</td>\n",
       "      <td>0.474967</td>\n",
       "      <td>-0.696631</td>\n",
       "      <td>-0.449342</td>\n",
       "      <td>1.018742</td>\n",
       "      <td>1.357580</td>\n",
       "      <td>-0.562095</td>\n",
       "    </tr>\n",
       "    <tr>\n",
       "      <th>26</th>\n",
       "      <td>0.475292</td>\n",
       "      <td>0.681005</td>\n",
       "      <td>1.052848</td>\n",
       "      <td>1.063436</td>\n",
       "      <td>-0.638537</td>\n",
       "      <td>2.394438</td>\n",
       "      <td>0.910256</td>\n",
       "      <td>0.221125</td>\n",
       "      <td>-0.696631</td>\n",
       "      <td>0.800916</td>\n",
       "      <td>1.018742</td>\n",
       "      <td>-0.830347</td>\n",
       "      <td>-0.562095</td>\n",
       "    </tr>\n",
       "    <tr>\n",
       "      <th>27</th>\n",
       "      <td>-0.418980</td>\n",
       "      <td>0.681005</td>\n",
       "      <td>1.052848</td>\n",
       "      <td>-1.375941</td>\n",
       "      <td>-1.619065</td>\n",
       "      <td>-0.417635</td>\n",
       "      <td>0.910256</td>\n",
       "      <td>-1.151039</td>\n",
       "      <td>-0.696631</td>\n",
       "      <td>-0.164314</td>\n",
       "      <td>1.018742</td>\n",
       "      <td>-0.830347</td>\n",
       "      <td>-0.562095</td>\n",
       "    </tr>\n",
       "    <tr>\n",
       "      <th>28</th>\n",
       "      <td>1.205416</td>\n",
       "      <td>-1.468418</td>\n",
       "      <td>1.052848</td>\n",
       "      <td>0.581329</td>\n",
       "      <td>2.595018</td>\n",
       "      <td>2.394438</td>\n",
       "      <td>-1.011474</td>\n",
       "      <td>0.221125</td>\n",
       "      <td>-0.696631</td>\n",
       "      <td>0.088204</td>\n",
       "      <td>1.018742</td>\n",
       "      <td>0.791888</td>\n",
       "      <td>-0.562095</td>\n",
       "    </tr>\n",
       "    <tr>\n",
       "      <th>29</th>\n",
       "      <td>-0.205358</td>\n",
       "      <td>0.681005</td>\n",
       "      <td>1.052848</td>\n",
       "      <td>0.026271</td>\n",
       "      <td>-1.019640</td>\n",
       "      <td>2.394438</td>\n",
       "      <td>-1.011474</td>\n",
       "      <td>-0.018265</td>\n",
       "      <td>-0.696631</td>\n",
       "      <td>0.495995</td>\n",
       "      <td>-1.929035</td>\n",
       "      <td>-0.830347</td>\n",
       "      <td>-0.562095</td>\n",
       "    </tr>\n",
       "    <tr>\n",
       "      <th>...</th>\n",
       "      <td>...</td>\n",
       "      <td>...</td>\n",
       "      <td>...</td>\n",
       "      <td>...</td>\n",
       "      <td>...</td>\n",
       "      <td>...</td>\n",
       "      <td>...</td>\n",
       "      <td>...</td>\n",
       "      <td>...</td>\n",
       "      <td>...</td>\n",
       "      <td>...</td>\n",
       "      <td>...</td>\n",
       "      <td>...</td>\n",
       "    </tr>\n",
       "    <tr>\n",
       "      <th>273</th>\n",
       "      <td>0.357905</td>\n",
       "      <td>0.681005</td>\n",
       "      <td>-0.993532</td>\n",
       "      <td>-2.191481</td>\n",
       "      <td>-0.125711</td>\n",
       "      <td>-0.417635</td>\n",
       "      <td>0.910256</td>\n",
       "      <td>0.172041</td>\n",
       "      <td>-0.696631</td>\n",
       "      <td>-0.937564</td>\n",
       "      <td>1.018742</td>\n",
       "      <td>0.791888</td>\n",
       "      <td>1.160190</td>\n",
       "    </tr>\n",
       "    <tr>\n",
       "      <th>274</th>\n",
       "      <td>-0.831132</td>\n",
       "      <td>0.681005</td>\n",
       "      <td>-0.993532</td>\n",
       "      <td>-1.375941</td>\n",
       "      <td>0.663035</td>\n",
       "      <td>-0.417635</td>\n",
       "      <td>-1.011474</td>\n",
       "      <td>-1.318480</td>\n",
       "      <td>1.435481</td>\n",
       "      <td>0.308068</td>\n",
       "      <td>-0.743940</td>\n",
       "      <td>0.791888</td>\n",
       "      <td>-0.562095</td>\n",
       "    </tr>\n",
       "    <tr>\n",
       "      <th>275</th>\n",
       "      <td>-0.312898</td>\n",
       "      <td>0.681005</td>\n",
       "      <td>-0.993532</td>\n",
       "      <td>-0.290518</td>\n",
       "      <td>-0.638537</td>\n",
       "      <td>-0.417635</td>\n",
       "      <td>0.910256</td>\n",
       "      <td>0.796742</td>\n",
       "      <td>-0.696631</td>\n",
       "      <td>0.308068</td>\n",
       "      <td>1.018742</td>\n",
       "      <td>1.357580</td>\n",
       "      <td>1.160190</td>\n",
       "    </tr>\n",
       "    <tr>\n",
       "      <th>276</th>\n",
       "      <td>0.357905</td>\n",
       "      <td>0.681005</td>\n",
       "      <td>-0.993532</td>\n",
       "      <td>0.877162</td>\n",
       "      <td>-0.492950</td>\n",
       "      <td>-0.417635</td>\n",
       "      <td>0.910256</td>\n",
       "      <td>-1.730283</td>\n",
       "      <td>-0.696631</td>\n",
       "      <td>1.043676</td>\n",
       "      <td>-0.743940</td>\n",
       "      <td>0.791888</td>\n",
       "      <td>1.160190</td>\n",
       "    </tr>\n",
       "    <tr>\n",
       "      <th>277</th>\n",
       "      <td>0.241950</td>\n",
       "      <td>0.681005</td>\n",
       "      <td>0.253062</td>\n",
       "      <td>-0.356890</td>\n",
       "      <td>0.416002</td>\n",
       "      <td>-0.417635</td>\n",
       "      <td>0.910256</td>\n",
       "      <td>-0.490164</td>\n",
       "      <td>-0.696631</td>\n",
       "      <td>-0.604006</td>\n",
       "      <td>1.018742</td>\n",
       "      <td>-0.830347</td>\n",
       "      <td>1.160190</td>\n",
       "    </tr>\n",
       "    <tr>\n",
       "      <th>278</th>\n",
       "      <td>0.357905</td>\n",
       "      <td>-1.468418</td>\n",
       "      <td>0.253062</td>\n",
       "      <td>0.370441</td>\n",
       "      <td>1.347742</td>\n",
       "      <td>2.394438</td>\n",
       "      <td>-1.011474</td>\n",
       "      <td>-0.018265</td>\n",
       "      <td>-0.696631</td>\n",
       "      <td>-1.116429</td>\n",
       "      <td>1.018742</td>\n",
       "      <td>1.357580</td>\n",
       "      <td>-0.562095</td>\n",
       "    </tr>\n",
       "    <tr>\n",
       "      <th>279</th>\n",
       "      <td>0.714023</td>\n",
       "      <td>0.681005</td>\n",
       "      <td>-0.993532</td>\n",
       "      <td>0.477450</td>\n",
       "      <td>-1.877016</td>\n",
       "      <td>-0.417635</td>\n",
       "      <td>-1.011474</td>\n",
       "      <td>-1.082405</td>\n",
       "      <td>1.435481</td>\n",
       "      <td>1.704909</td>\n",
       "      <td>-0.743940</td>\n",
       "      <td>0.791888</td>\n",
       "      <td>-0.562095</td>\n",
       "    </tr>\n",
       "    <tr>\n",
       "      <th>280</th>\n",
       "      <td>-1.324959</td>\n",
       "      <td>0.681005</td>\n",
       "      <td>-0.993532</td>\n",
       "      <td>0.370441</td>\n",
       "      <td>1.289898</td>\n",
       "      <td>-0.417635</td>\n",
       "      <td>0.910256</td>\n",
       "      <td>-1.082405</td>\n",
       "      <td>1.435481</td>\n",
       "      <td>0.928420</td>\n",
       "      <td>-0.743940</td>\n",
       "      <td>-0.830347</td>\n",
       "      <td>-1.991939</td>\n",
       "    </tr>\n",
       "    <tr>\n",
       "      <th>281</th>\n",
       "      <td>-0.312898</td>\n",
       "      <td>0.681005</td>\n",
       "      <td>-0.993532</td>\n",
       "      <td>-0.097313</td>\n",
       "      <td>-0.838841</td>\n",
       "      <td>2.394438</td>\n",
       "      <td>0.910256</td>\n",
       "      <td>0.172041</td>\n",
       "      <td>1.435481</td>\n",
       "      <td>0.308068</td>\n",
       "      <td>-0.743940</td>\n",
       "      <td>-0.830347</td>\n",
       "      <td>-3.289729</td>\n",
       "    </tr>\n",
       "    <tr>\n",
       "      <th>282</th>\n",
       "      <td>0.475292</td>\n",
       "      <td>0.681005</td>\n",
       "      <td>1.052848</td>\n",
       "      <td>-0.225113</td>\n",
       "      <td>-0.492950</td>\n",
       "      <td>2.394438</td>\n",
       "      <td>0.910256</td>\n",
       "      <td>-0.759887</td>\n",
       "      <td>-0.696631</td>\n",
       "      <td>1.148861</td>\n",
       "      <td>-0.743940</td>\n",
       "      <td>0.791888</td>\n",
       "      <td>-1.991939</td>\n",
       "    </tr>\n",
       "    <tr>\n",
       "      <th>283</th>\n",
       "      <td>-1.517247</td>\n",
       "      <td>0.681005</td>\n",
       "      <td>-0.993532</td>\n",
       "      <td>1.153797</td>\n",
       "      <td>-0.374810</td>\n",
       "      <td>-0.417635</td>\n",
       "      <td>0.910256</td>\n",
       "      <td>1.550380</td>\n",
       "      <td>-0.696631</td>\n",
       "      <td>-1.116429</td>\n",
       "      <td>1.018742</td>\n",
       "      <td>-0.830347</td>\n",
       "      <td>1.160190</td>\n",
       "    </tr>\n",
       "    <tr>\n",
       "      <th>284</th>\n",
       "      <td>0.714023</td>\n",
       "      <td>0.681005</td>\n",
       "      <td>-0.993532</td>\n",
       "      <td>0.581329</td>\n",
       "      <td>-0.762919</td>\n",
       "      <td>-0.417635</td>\n",
       "      <td>-1.011474</td>\n",
       "      <td>-0.608109</td>\n",
       "      <td>1.435481</td>\n",
       "      <td>0.987428</td>\n",
       "      <td>1.018742</td>\n",
       "      <td>0.791888</td>\n",
       "      <td>1.160190</td>\n",
       "    </tr>\n",
       "    <tr>\n",
       "      <th>285</th>\n",
       "      <td>-0.931581</td>\n",
       "      <td>0.681005</td>\n",
       "      <td>-0.993532</td>\n",
       "      <td>0.581329</td>\n",
       "      <td>1.231304</td>\n",
       "      <td>-0.417635</td>\n",
       "      <td>0.910256</td>\n",
       "      <td>-1.252182</td>\n",
       "      <td>1.435481</td>\n",
       "      <td>0.928420</td>\n",
       "      <td>-0.743940</td>\n",
       "      <td>1.357580</td>\n",
       "      <td>1.160190</td>\n",
       "    </tr>\n",
       "    <tr>\n",
       "      <th>286</th>\n",
       "      <td>0.475292</td>\n",
       "      <td>0.681005</td>\n",
       "      <td>1.644531</td>\n",
       "      <td>0.259907</td>\n",
       "      <td>-0.838841</td>\n",
       "      <td>-0.417635</td>\n",
       "      <td>0.910256</td>\n",
       "      <td>0.474967</td>\n",
       "      <td>-0.696631</td>\n",
       "      <td>0.088204</td>\n",
       "      <td>1.018742</td>\n",
       "      <td>1.357580</td>\n",
       "      <td>-0.562095</td>\n",
       "    </tr>\n",
       "    <tr>\n",
       "      <th>287</th>\n",
       "      <td>0.241950</td>\n",
       "      <td>0.681005</td>\n",
       "      <td>0.253062</td>\n",
       "      <td>1.242484</td>\n",
       "      <td>-0.169851</td>\n",
       "      <td>-0.417635</td>\n",
       "      <td>-1.011474</td>\n",
       "      <td>0.580231</td>\n",
       "      <td>-0.696631</td>\n",
       "      <td>-1.116429</td>\n",
       "      <td>1.018742</td>\n",
       "      <td>0.791888</td>\n",
       "      <td>-0.562095</td>\n",
       "    </tr>\n",
       "    <tr>\n",
       "      <th>288</th>\n",
       "      <td>0.241950</td>\n",
       "      <td>0.681005</td>\n",
       "      <td>-0.993532</td>\n",
       "      <td>-1.375941</td>\n",
       "      <td>1.572247</td>\n",
       "      <td>-0.417635</td>\n",
       "      <td>0.910256</td>\n",
       "      <td>-0.409325</td>\n",
       "      <td>1.435481</td>\n",
       "      <td>1.496750</td>\n",
       "      <td>-0.743940</td>\n",
       "      <td>0.791888</td>\n",
       "      <td>1.160190</td>\n",
       "    </tr>\n",
       "    <tr>\n",
       "      <th>289</th>\n",
       "      <td>0.014769</td>\n",
       "      <td>-1.468418</td>\n",
       "      <td>-0.993532</td>\n",
       "      <td>-0.097313</td>\n",
       "      <td>-0.813428</td>\n",
       "      <td>-0.417635</td>\n",
       "      <td>2.581924</td>\n",
       "      <td>-0.906190</td>\n",
       "      <td>1.435481</td>\n",
       "      <td>1.043676</td>\n",
       "      <td>-0.743940</td>\n",
       "      <td>0.791888</td>\n",
       "      <td>1.160190</td>\n",
       "    </tr>\n",
       "    <tr>\n",
       "      <th>290</th>\n",
       "      <td>0.714023</td>\n",
       "      <td>0.681005</td>\n",
       "      <td>-0.993532</td>\n",
       "      <td>0.971273</td>\n",
       "      <td>-0.864360</td>\n",
       "      <td>-0.417635</td>\n",
       "      <td>0.910256</td>\n",
       "      <td>0.423113</td>\n",
       "      <td>-0.696631</td>\n",
       "      <td>-1.116429</td>\n",
       "      <td>1.018742</td>\n",
       "      <td>0.791888</td>\n",
       "      <td>1.160190</td>\n",
       "    </tr>\n",
       "    <tr>\n",
       "      <th>291</th>\n",
       "      <td>0.357905</td>\n",
       "      <td>0.681005</td>\n",
       "      <td>-0.993532</td>\n",
       "      <td>-1.068959</td>\n",
       "      <td>1.333349</td>\n",
       "      <td>-0.417635</td>\n",
       "      <td>2.581924</td>\n",
       "      <td>-0.529903</td>\n",
       "      <td>-0.696631</td>\n",
       "      <td>1.936851</td>\n",
       "      <td>-1.929035</td>\n",
       "      <td>1.652076</td>\n",
       "      <td>-1.991939</td>\n",
       "    </tr>\n",
       "    <tr>\n",
       "      <th>292</th>\n",
       "      <td>0.357905</td>\n",
       "      <td>-1.468418</td>\n",
       "      <td>-0.993532</td>\n",
       "      <td>1.903012</td>\n",
       "      <td>-0.328392</td>\n",
       "      <td>2.394438</td>\n",
       "      <td>-1.011474</td>\n",
       "      <td>-0.284334</td>\n",
       "      <td>1.435481</td>\n",
       "      <td>1.418661</td>\n",
       "      <td>-0.743940</td>\n",
       "      <td>1.357580</td>\n",
       "      <td>-1.991939</td>\n",
       "    </tr>\n",
       "    <tr>\n",
       "      <th>293</th>\n",
       "      <td>1.457239</td>\n",
       "      <td>0.681005</td>\n",
       "      <td>1.052848</td>\n",
       "      <td>1.153797</td>\n",
       "      <td>-0.638537</td>\n",
       "      <td>-0.417635</td>\n",
       "      <td>-1.011474</td>\n",
       "      <td>-0.109589</td>\n",
       "      <td>-0.696631</td>\n",
       "      <td>0.088204</td>\n",
       "      <td>-0.743940</td>\n",
       "      <td>-0.830347</td>\n",
       "      <td>1.160190</td>\n",
       "    </tr>\n",
       "    <tr>\n",
       "      <th>294</th>\n",
       "      <td>-1.129851</td>\n",
       "      <td>0.681005</td>\n",
       "      <td>-0.993532</td>\n",
       "      <td>-0.631568</td>\n",
       "      <td>-1.790249</td>\n",
       "      <td>-0.417635</td>\n",
       "      <td>0.910256</td>\n",
       "      <td>-0.368182</td>\n",
       "      <td>1.435481</td>\n",
       "      <td>1.418661</td>\n",
       "      <td>-1.929035</td>\n",
       "      <td>-0.830347</td>\n",
       "      <td>-1.991939</td>\n",
       "    </tr>\n",
       "    <tr>\n",
       "      <th>295</th>\n",
       "      <td>0.957552</td>\n",
       "      <td>0.681005</td>\n",
       "      <td>-0.993532</td>\n",
       "      <td>0.581329</td>\n",
       "      <td>-1.286426</td>\n",
       "      <td>-0.417635</td>\n",
       "      <td>-1.011474</td>\n",
       "      <td>-0.368182</td>\n",
       "      <td>1.435481</td>\n",
       "      <td>1.826332</td>\n",
       "      <td>1.018742</td>\n",
       "      <td>1.357580</td>\n",
       "      <td>1.160190</td>\n",
       "    </tr>\n",
       "    <tr>\n",
       "      <th>296</th>\n",
       "      <td>0.957552</td>\n",
       "      <td>-1.468418</td>\n",
       "      <td>-0.993532</td>\n",
       "      <td>-0.356890</td>\n",
       "      <td>-1.019640</td>\n",
       "      <td>-0.417635</td>\n",
       "      <td>0.910256</td>\n",
       "      <td>-0.684732</td>\n",
       "      <td>1.435481</td>\n",
       "      <td>-1.116429</td>\n",
       "      <td>-0.743940</td>\n",
       "      <td>-0.830347</td>\n",
       "      <td>-0.562095</td>\n",
       "    </tr>\n",
       "    <tr>\n",
       "      <th>297</th>\n",
       "      <td>0.475292</td>\n",
       "      <td>0.681005</td>\n",
       "      <td>-0.993532</td>\n",
       "      <td>1.664349</td>\n",
       "      <td>-1.590844</td>\n",
       "      <td>2.394438</td>\n",
       "      <td>-1.011474</td>\n",
       "      <td>-2.171984</td>\n",
       "      <td>-0.696631</td>\n",
       "      <td>0.308068</td>\n",
       "      <td>-0.743940</td>\n",
       "      <td>1.357580</td>\n",
       "      <td>-1.991939</td>\n",
       "    </tr>\n",
       "    <tr>\n",
       "      <th>298</th>\n",
       "      <td>0.241950</td>\n",
       "      <td>-1.468418</td>\n",
       "      <td>-0.993532</td>\n",
       "      <td>0.581329</td>\n",
       "      <td>0.024522</td>\n",
       "      <td>-0.417635</td>\n",
       "      <td>0.910256</td>\n",
       "      <td>-1.151039</td>\n",
       "      <td>1.435481</td>\n",
       "      <td>-0.766751</td>\n",
       "      <td>-0.743940</td>\n",
       "      <td>-0.830347</td>\n",
       "      <td>1.160190</td>\n",
       "    </tr>\n",
       "    <tr>\n",
       "      <th>299</th>\n",
       "      <td>-1.031135</td>\n",
       "      <td>0.681005</td>\n",
       "      <td>1.644531</td>\n",
       "      <td>-1.375941</td>\n",
       "      <td>0.470518</td>\n",
       "      <td>-0.417635</td>\n",
       "      <td>0.910256</td>\n",
       "      <td>-0.833676</td>\n",
       "      <td>-0.696631</td>\n",
       "      <td>0.495995</td>\n",
       "      <td>-0.743940</td>\n",
       "      <td>-0.830347</td>\n",
       "      <td>1.160190</td>\n",
       "    </tr>\n",
       "    <tr>\n",
       "      <th>300</th>\n",
       "      <td>1.584536</td>\n",
       "      <td>0.681005</td>\n",
       "      <td>-0.993532</td>\n",
       "      <td>0.780936</td>\n",
       "      <td>-1.125180</td>\n",
       "      <td>2.394438</td>\n",
       "      <td>0.910256</td>\n",
       "      <td>-0.490164</td>\n",
       "      <td>-0.696631</td>\n",
       "      <td>1.639377</td>\n",
       "      <td>-0.743940</td>\n",
       "      <td>1.357580</td>\n",
       "      <td>1.160190</td>\n",
       "    </tr>\n",
       "    <tr>\n",
       "      <th>301</th>\n",
       "      <td>0.241950</td>\n",
       "      <td>0.681005</td>\n",
       "      <td>-0.993532</td>\n",
       "      <td>0.026271</td>\n",
       "      <td>-2.943528</td>\n",
       "      <td>-0.417635</td>\n",
       "      <td>0.910256</td>\n",
       "      <td>-1.416340</td>\n",
       "      <td>1.435481</td>\n",
       "      <td>0.495995</td>\n",
       "      <td>-0.743940</td>\n",
       "      <td>0.791888</td>\n",
       "      <td>1.160190</td>\n",
       "    </tr>\n",
       "    <tr>\n",
       "      <th>302</th>\n",
       "      <td>0.241950</td>\n",
       "      <td>-1.468418</td>\n",
       "      <td>0.253062</td>\n",
       "      <td>0.026271</td>\n",
       "      <td>-0.082102</td>\n",
       "      <td>-0.417635</td>\n",
       "      <td>-1.011474</td>\n",
       "      <td>1.135529</td>\n",
       "      <td>-0.696631</td>\n",
       "      <td>-1.116429</td>\n",
       "      <td>-0.743940</td>\n",
       "      <td>0.791888</td>\n",
       "      <td>-0.562095</td>\n",
       "    </tr>\n",
       "  </tbody>\n",
       "</table>\n",
       "<p>303 rows × 13 columns</p>\n",
       "</div>"
      ],
      "text/plain": [
       "           0         1         2         3         4         5         6   \\\n",
       "0    0.957552  0.681005  1.644531  0.829325 -0.147715  2.394438 -1.011474   \n",
       "1   -1.800982  0.681005  1.052848  0.026271  0.207360 -0.417635  0.910256   \n",
       "2   -1.421437 -1.468418  0.253062  0.026271 -0.838841 -0.417635 -1.011474   \n",
       "3    0.127531  0.681005  0.253062 -0.631568 -0.082102 -0.417635  0.910256   \n",
       "4    0.241950 -1.468418 -0.993532 -0.631568  1.826326 -0.417635  0.910256   \n",
       "5    0.241950  0.681005 -0.993532  0.581329 -1.151812 -0.417635  0.910256   \n",
       "6    0.127531 -1.468418  0.253062  0.581329  0.973014 -0.417635 -1.011474   \n",
       "7   -1.129851  0.681005  0.253062 -0.631568  0.452449 -0.417635  0.910256   \n",
       "8   -0.312898  0.681005  1.052848  1.980520 -0.967471  2.394438  0.910256   \n",
       "9    0.241950  0.681005  1.052848  1.063436 -1.819085 -0.417635  0.910256   \n",
       "10  -0.096197  0.681005 -0.993532  0.581329 -0.017710 -0.417635  0.910256   \n",
       "11  -0.729726 -1.468418  1.052848  0.026271  0.663035 -0.417635  0.910256   \n",
       "12  -0.627289  0.681005  0.253062  0.026271  0.506355 -0.417635  0.910256   \n",
       "13   1.080967  0.681005  1.644531 -1.375941 -0.663194 -0.417635 -1.011474   \n",
       "14   0.357905 -1.468418  1.644531  1.063436  0.796678  2.394438 -1.011474   \n",
       "15  -0.523739 -1.468418  1.052848 -0.631568 -0.469086 -0.417635  0.910256   \n",
       "16   0.357905 -1.468418  1.052848 -0.631568  1.640338 -0.417635  0.910256   \n",
       "17   1.330853 -1.468418  1.644531  1.063436 -0.305367 -0.417635  0.910256   \n",
       "18  -1.227777  0.681005 -0.993532  1.063436  0.147741 -0.417635  0.910256   \n",
       "19   1.712711 -1.468418  1.644531  0.581329 -0.017710 -0.417635  0.910256   \n",
       "20   0.475292  0.681005 -0.993532  0.315643 -0.125711 -0.417635  0.910256   \n",
       "21  -1.129851  0.681005  1.052848  0.026271 -0.147715 -0.417635  0.910256   \n",
       "22  -1.324959  0.681005 -0.993532  0.581329 -0.305367 -0.417635  0.910256   \n",
       "23   0.714023  0.681005  1.052848  1.063436  0.066183  2.394438  0.910256   \n",
       "24  -1.517247  0.681005  1.644531  0.581329 -0.967471 -0.417635  0.910256   \n",
       "25   1.971568 -1.468418  0.253062  1.499566  1.096534 -0.417635  0.910256   \n",
       "26   0.475292  0.681005  1.052848  1.063436 -0.638537  2.394438  0.910256   \n",
       "27  -0.418980  0.681005  1.052848 -1.375941 -1.619065 -0.417635  0.910256   \n",
       "28   1.205416 -1.468418  1.052848  0.581329  2.595018  2.394438 -1.011474   \n",
       "29  -0.205358  0.681005  1.052848  0.026271 -1.019640  2.394438 -1.011474   \n",
       "..        ...       ...       ...       ...       ...       ...       ...   \n",
       "273  0.357905  0.681005 -0.993532 -2.191481 -0.125711 -0.417635  0.910256   \n",
       "274 -0.831132  0.681005 -0.993532 -1.375941  0.663035 -0.417635 -1.011474   \n",
       "275 -0.312898  0.681005 -0.993532 -0.290518 -0.638537 -0.417635  0.910256   \n",
       "276  0.357905  0.681005 -0.993532  0.877162 -0.492950 -0.417635  0.910256   \n",
       "277  0.241950  0.681005  0.253062 -0.356890  0.416002 -0.417635  0.910256   \n",
       "278  0.357905 -1.468418  0.253062  0.370441  1.347742  2.394438 -1.011474   \n",
       "279  0.714023  0.681005 -0.993532  0.477450 -1.877016 -0.417635 -1.011474   \n",
       "280 -1.324959  0.681005 -0.993532  0.370441  1.289898 -0.417635  0.910256   \n",
       "281 -0.312898  0.681005 -0.993532 -0.097313 -0.838841  2.394438  0.910256   \n",
       "282  0.475292  0.681005  1.052848 -0.225113 -0.492950  2.394438  0.910256   \n",
       "283 -1.517247  0.681005 -0.993532  1.153797 -0.374810 -0.417635  0.910256   \n",
       "284  0.714023  0.681005 -0.993532  0.581329 -0.762919 -0.417635 -1.011474   \n",
       "285 -0.931581  0.681005 -0.993532  0.581329  1.231304 -0.417635  0.910256   \n",
       "286  0.475292  0.681005  1.644531  0.259907 -0.838841 -0.417635  0.910256   \n",
       "287  0.241950  0.681005  0.253062  1.242484 -0.169851 -0.417635 -1.011474   \n",
       "288  0.241950  0.681005 -0.993532 -1.375941  1.572247 -0.417635  0.910256   \n",
       "289  0.014769 -1.468418 -0.993532 -0.097313 -0.813428 -0.417635  2.581924   \n",
       "290  0.714023  0.681005 -0.993532  0.971273 -0.864360 -0.417635  0.910256   \n",
       "291  0.357905  0.681005 -0.993532 -1.068959  1.333349 -0.417635  2.581924   \n",
       "292  0.357905 -1.468418 -0.993532  1.903012 -0.328392  2.394438 -1.011474   \n",
       "293  1.457239  0.681005  1.052848  1.153797 -0.638537 -0.417635 -1.011474   \n",
       "294 -1.129851  0.681005 -0.993532 -0.631568 -1.790249 -0.417635  0.910256   \n",
       "295  0.957552  0.681005 -0.993532  0.581329 -1.286426 -0.417635 -1.011474   \n",
       "296  0.957552 -1.468418 -0.993532 -0.356890 -1.019640 -0.417635  0.910256   \n",
       "297  0.475292  0.681005 -0.993532  1.664349 -1.590844  2.394438 -1.011474   \n",
       "298  0.241950 -1.468418 -0.993532  0.581329  0.024522 -0.417635  0.910256   \n",
       "299 -1.031135  0.681005  1.644531 -1.375941  0.470518 -0.417635  0.910256   \n",
       "300  1.584536  0.681005 -0.993532  0.780936 -1.125180  2.394438  0.910256   \n",
       "301  0.241950  0.681005 -0.993532  0.026271 -2.943528 -0.417635  0.910256   \n",
       "302  0.241950 -1.468418  0.253062  0.026271 -0.082102 -0.417635 -1.011474   \n",
       "\n",
       "           7         8         9         10        11        12  \n",
       "0   -0.109589 -0.696631  1.198207 -1.929035 -0.830347 -1.991939  \n",
       "1    1.921453 -0.696631  1.672581 -1.929035 -0.830347 -0.562095  \n",
       "2    1.020805 -0.696631  0.658184  1.018742 -0.830347 -0.562095  \n",
       "3    1.370116 -0.696631  0.088204  1.018742 -0.830347 -0.562095  \n",
       "4    0.527343  1.435481 -0.164314  1.018742 -0.830347 -0.562095  \n",
       "5   -0.198221 -0.696631 -0.449342 -0.743940 -0.830347 -1.991939  \n",
       "6    0.028378 -0.696631  0.579853 -0.743940 -0.830347 -0.562095  \n",
       "7    1.077948 -0.696631 -1.116429  1.018742 -0.830347  1.160190  \n",
       "8    0.474967 -0.696631 -0.302773  1.018742 -0.830347  1.160190  \n",
       "9    1.135529 -0.696631  0.800916  1.018742 -0.830347 -0.562095  \n",
       "10   0.371792 -0.696631  0.495995  1.018742 -0.830347 -0.562095  \n",
       "11  -0.569212 -0.696631 -0.766751  1.018742 -0.830347 -0.562095  \n",
       "12   0.964106 -0.696631 -0.164314  1.018742 -0.830347 -0.562095  \n",
       "13  -0.368182  1.435481  0.928420 -0.743940 -0.830347 -0.562095  \n",
       "14   0.474967 -0.696631  0.308068  1.018742 -0.830347 -0.562095  \n",
       "15   0.270787 -0.696631  0.800916 -0.743940 -0.830347 -0.562095  \n",
       "16   1.020805 -0.696631 -1.116429  1.018742 -0.830347 -0.562095  \n",
       "17  -1.448556 -0.696631  1.335218 -1.929035 -0.830347 -0.562095  \n",
       "18   0.964106 -0.696631  0.731682  1.018742 -0.830347 -0.562095  \n",
       "19  -0.064260 -0.696631  0.928420  1.018742  1.357580 -0.562095  \n",
       "20   0.423113 -0.696631 -0.302773 -0.743940 -0.830347  1.160190  \n",
       "21   1.429801  1.435481 -0.449342  1.018742 -0.830347 -0.562095  \n",
       "22   1.370116 -0.696631 -1.116429  1.018742 -0.830347 -0.562095  \n",
       "23  -0.646611  1.435481  0.308068 -0.743940 -0.830347 -0.562095  \n",
       "24   1.370116  1.435481  0.658184  1.018742 -0.830347  1.160190  \n",
       "25   0.474967 -0.696631 -0.449342  1.018742  1.357580 -0.562095  \n",
       "26   0.221125 -0.696631  0.800916  1.018742 -0.830347 -0.562095  \n",
       "27  -1.151039 -0.696631 -0.164314  1.018742 -0.830347 -0.562095  \n",
       "28   0.221125 -0.696631  0.088204  1.018742  0.791888 -0.562095  \n",
       "29  -0.018265 -0.696631  0.495995 -1.929035 -0.830347 -0.562095  \n",
       "..        ...       ...       ...       ...       ...       ...  \n",
       "273  0.172041 -0.696631 -0.937564  1.018742  0.791888  1.160190  \n",
       "274 -1.318480  1.435481  0.308068 -0.743940  0.791888 -0.562095  \n",
       "275  0.796742 -0.696631  0.308068  1.018742  1.357580  1.160190  \n",
       "276 -1.730283 -0.696631  1.043676 -0.743940  0.791888  1.160190  \n",
       "277 -0.490164 -0.696631 -0.604006  1.018742 -0.830347  1.160190  \n",
       "278 -0.018265 -0.696631 -1.116429  1.018742  1.357580 -0.562095  \n",
       "279 -1.082405  1.435481  1.704909 -0.743940  0.791888 -0.562095  \n",
       "280 -1.082405  1.435481  0.928420 -0.743940 -0.830347 -1.991939  \n",
       "281  0.172041  1.435481  0.308068 -0.743940 -0.830347 -3.289729  \n",
       "282 -0.759887 -0.696631  1.148861 -0.743940  0.791888 -1.991939  \n",
       "283  1.550380 -0.696631 -1.116429  1.018742 -0.830347  1.160190  \n",
       "284 -0.608109  1.435481  0.987428  1.018742  0.791888  1.160190  \n",
       "285 -1.252182  1.435481  0.928420 -0.743940  1.357580  1.160190  \n",
       "286  0.474967 -0.696631  0.088204  1.018742  1.357580 -0.562095  \n",
       "287  0.580231 -0.696631 -1.116429  1.018742  0.791888 -0.562095  \n",
       "288 -0.409325  1.435481  1.496750 -0.743940  0.791888  1.160190  \n",
       "289 -0.906190  1.435481  1.043676 -0.743940  0.791888  1.160190  \n",
       "290  0.423113 -0.696631 -1.116429  1.018742  0.791888  1.160190  \n",
       "291 -0.529903 -0.696631  1.936851 -1.929035  1.652076 -1.991939  \n",
       "292 -0.284334  1.435481  1.418661 -0.743940  1.357580 -1.991939  \n",
       "293 -0.109589 -0.696631  0.088204 -0.743940 -0.830347  1.160190  \n",
       "294 -0.368182  1.435481  1.418661 -1.929035 -0.830347 -1.991939  \n",
       "295 -0.368182  1.435481  1.826332  1.018742  1.357580  1.160190  \n",
       "296 -0.684732  1.435481 -1.116429 -0.743940 -0.830347 -0.562095  \n",
       "297 -2.171984 -0.696631  0.308068 -0.743940  1.357580 -1.991939  \n",
       "298 -1.151039  1.435481 -0.766751 -0.743940 -0.830347  1.160190  \n",
       "299 -0.833676 -0.696631  0.495995 -0.743940 -0.830347  1.160190  \n",
       "300 -0.490164 -0.696631  1.639377 -0.743940  1.357580  1.160190  \n",
       "301 -1.416340  1.435481  0.495995 -0.743940  0.791888  1.160190  \n",
       "302  1.135529 -0.696631 -1.116429 -0.743940  0.791888 -0.562095  \n",
       "\n",
       "[303 rows x 13 columns]"
      ]
     },
     "execution_count": 79,
     "metadata": {},
     "output_type": "execute_result"
    }
   ],
   "source": [
    "X"
   ]
  },
  {
   "cell_type": "markdown",
   "metadata": {},
   "source": [
    "#Feature selection Using Filtering Method\n",
    "from sklearn.feature_selection import SelectKBest\n",
    "from sklearn.feature_selection import chi2\n",
    "df = data.copy()\n",
    "X = df.iloc[:,0:13]  #independent columns\n",
    "y = df.iloc[:,-1]    #target column \n",
    "#apply SelectKBest class to extract top best features\n",
    "bestfeatures = SelectKBest(score_func=chi2, k=10)\n",
    "fit = bestfeatures.fit(X,y)\n",
    "fit.scores_\n"
   ]
  },
  {
   "cell_type": "code",
   "execution_count": 80,
   "metadata": {},
   "outputs": [
    {
     "name": "stdout",
     "output_type": "stream",
     "text": [
      "(212, 13)\n",
      "(91, 13)\n"
     ]
    }
   ],
   "source": [
    "from sklearn.model_selection import train_test_split\n",
    "\n",
    "X_train , X_test , y_train , y_test = train_test_split(X,y,test_size = 0.30 , random_state = 42)\n",
    "\n",
    "print(X_train.shape)\n",
    "print(X_test.shape)"
   ]
  },
  {
   "cell_type": "code",
   "execution_count": 81,
   "metadata": {},
   "outputs": [
    {
     "name": "stderr",
     "output_type": "stream",
     "text": [
      "C:\\Users\\Bhuvana\\Anaconda3\\lib\\site-packages\\sklearn\\linear_model\\logistic.py:433: FutureWarning: Default solver will be changed to 'lbfgs' in 0.22. Specify a solver to silence this warning.\n",
      "  FutureWarning)\n"
     ]
    }
   ],
   "source": [
    "from sklearn.linear_model import LogisticRegression\n",
    "log_reg = LogisticRegression()\n",
    "log_reg.fit(X_train,y_train)\n",
    "y_pred = log_reg.predict(X_test)"
   ]
  },
  {
   "cell_type": "code",
   "execution_count": 82,
   "metadata": {},
   "outputs": [
    {
     "name": "stdout",
     "output_type": "stream",
     "text": [
      "0.8241758241758241\n"
     ]
    }
   ],
   "source": [
    "#Model Evaluation\n",
    "from sklearn.metrics import accuracy_score\n",
    "print(accuracy_score(y_test,y_pred))"
   ]
  },
  {
   "cell_type": "code",
   "execution_count": 83,
   "metadata": {},
   "outputs": [
    {
     "name": "stdout",
     "output_type": "stream",
     "text": [
      "              precision    recall  f1-score   support\n",
      "\n",
      "           0       0.82      0.78      0.80        41\n",
      "           1       0.83      0.86      0.84        50\n",
      "\n",
      "   micro avg       0.82      0.82      0.82        91\n",
      "   macro avg       0.82      0.82      0.82        91\n",
      "weighted avg       0.82      0.82      0.82        91\n",
      "\n"
     ]
    }
   ],
   "source": [
    "from sklearn.metrics import classification_report\n",
    "print(classification_report(y_test,y_pred))"
   ]
  },
  {
   "cell_type": "code",
   "execution_count": 84,
   "metadata": {},
   "outputs": [
    {
     "name": "stdout",
     "output_type": "stream",
     "text": [
      "[[32  9]\n",
      " [ 7 43]]\n"
     ]
    },
    {
     "data": {
      "text/plain": [
       "<matplotlib.axes._subplots.AxesSubplot at 0x1d61fe0b908>"
      ]
     },
     "execution_count": 84,
     "metadata": {},
     "output_type": "execute_result"
    },
    {
     "data": {
      "image/png": "[encoded data removed]",
      "text/plain": [
       "<Figure size 432x288 with 2 Axes>"
      ]
     },
     "metadata": {
      "needs_background": "light"
     },
     "output_type": "display_data"
    }
   ],
   "source": [
    "from sklearn.metrics import confusion_matrix\n",
    "print(confusion_matrix(y_test,y_pred))\n",
    "sns.heatmap(confusion_matrix(y_test,y_pred),annot=True)"
   ]
  },
  {
   "cell_type": "code",
   "execution_count": 85,
   "metadata": {},
   "outputs": [
    {
     "data": {
      "text/plain": [
       "[<matplotlib.lines.Line2D at 0x1d61fdb0320>]"
      ]
     },
     "execution_count": 85,
     "metadata": {},
     "output_type": "execute_result"
    },
    {
     "data": {
      "image/png": "[encoded data removed]",
      "text/plain": [
       "<Figure size 432x288 with 1 Axes>"
      ]
     },
     "metadata": {
      "needs_background": "light"
     },
     "output_type": "display_data"
    }
   ],
   "source": [
    "from sklearn.metrics import roc_curve\n",
    "fpr, tpr, thresholds = roc_curve(y_test, y_pred)\n",
    "plt.plot(fpr,tpr)"
   ]
  },
  {
   "cell_type": "code",
   "execution_count": 86,
   "metadata": {},
   "outputs": [],
   "source": [
    "# KNN Model\n",
    "from sklearn.neighbors import KNeighborsClassifier\n",
    "knn = KNeighborsClassifier(n_neighbors = 4)  # n_neighbors means k\n",
    "knn.fit(X_train,y_train)\n",
    "prediction = knn.predict(X_test)"
   ]
  },
  {
   "cell_type": "code",
   "execution_count": 87,
   "metadata": {},
   "outputs": [
    {
     "name": "stdout",
     "output_type": "stream",
     "text": [
      "0.8241758241758241\n",
      "              precision    recall  f1-score   support\n",
      "\n",
      "           0       0.77      0.88      0.82        41\n",
      "           1       0.89      0.78      0.83        50\n",
      "\n",
      "   micro avg       0.82      0.82      0.82        91\n",
      "   macro avg       0.83      0.83      0.82        91\n",
      "weighted avg       0.83      0.82      0.82        91\n",
      "\n",
      "[[36  5]\n",
      " [11 39]]\n"
     ]
    },
    {
     "data": {
      "text/plain": [
       "[<matplotlib.lines.Line2D at 0x1d61fe72198>]"
      ]
     },
     "execution_count": 87,
     "metadata": {},
     "output_type": "execute_result"
    },
    {
     "data": {
      "image/png": "[encoded data removed]",
      "text/plain": [
       "<Figure size 432x288 with 2 Axes>"
      ]
     },
     "metadata": {
      "needs_background": "light"
     },
     "output_type": "display_data"
    }
   ],
   "source": [
    "#Model Evaluation\n",
    "print(accuracy_score(y_test,prediction))\n",
    "print(classification_report(y_test,prediction))\n",
    "print(confusion_matrix(y_test,prediction))\n",
    "sns.heatmap(confusion_matrix(y_test,prediction),annot=True)\n",
    "fpr, tpr, thresholds = roc_curve(y_test, prediction)\n"
   ]
  },
  {
   "cell_type": "code",
   "execution_count": null,
   "metadata": {},
   "outputs": [],
   "source": [
    "plt.plot(fpr,tpr)"
   ]
  },
  {
   "cell_type": "code",
   "execution_count": 88,
   "metadata": {},
   "outputs": [
    {
     "name": "stderr",
     "output_type": "stream",
     "text": [
      "C:\\Users\\Bhuvana\\Anaconda3\\lib\\site-packages\\sklearn\\svm\\base.py:196: FutureWarning: The default value of gamma will change from 'auto' to 'scale' in version 0.22 to account better for unscaled features. Set gamma explicitly to 'auto' or 'scale' to avoid this warning.\n",
      "  \"avoid this warning.\", FutureWarning)\n"
     ]
    }
   ],
   "source": [
    "from sklearn.svm import SVC\n",
    "svm = SVC(random_state = 1)\n",
    "\n",
    "svm.fit(X_train,y_train)\n",
    "y_pred = svm.predict(X_test)"
   ]
  },
  {
   "cell_type": "code",
   "execution_count": 89,
   "metadata": {},
   "outputs": [
    {
     "name": "stdout",
     "output_type": "stream",
     "text": [
      "0.8241758241758241\n",
      "              precision    recall  f1-score   support\n",
      "\n",
      "           0       0.82      0.78      0.80        41\n",
      "           1       0.83      0.86      0.84        50\n",
      "\n",
      "   micro avg       0.82      0.82      0.82        91\n",
      "   macro avg       0.82      0.82      0.82        91\n",
      "weighted avg       0.82      0.82      0.82        91\n",
      "\n",
      "[[32  9]\n",
      " [ 7 43]]\n"
     ]
    },
    {
     "data": {
      "text/plain": [
       "[<matplotlib.lines.Line2D at 0x1d620404400>]"
      ]
     },
     "execution_count": 89,
     "metadata": {},
     "output_type": "execute_result"
    },
    {
     "data": {
      "image/png": "[encoded data removed]",
      "text/plain": [
       "<Figure size 432x288 with 2 Axes>"
      ]
     },
     "metadata": {
      "needs_background": "light"
     },
     "output_type": "display_data"
    }
   ],
   "source": [
    "#Model Evaluation\n",
    "print(accuracy_score(y_test,y_pred))\n",
    "print(classification_report(y_test,y_pred))\n",
    "print(confusion_matrix(y_test,y_pred))\n",
    "sns.heatmap(confusion_matrix(y_test,y_pred),annot=True)\n",
    "fpr, tpr, thresholds = roc_curve(y_test, y_pred)\n"
   ]
  },
  {
   "cell_type": "code",
   "execution_count": null,
   "metadata": {},
   "outputs": [],
   "source": [
    "plt.plot(fpr,tpr)"
   ]
  },
  {
   "cell_type": "code",
   "execution_count": 90,
   "metadata": {},
   "outputs": [],
   "source": [
    "from sklearn.naive_bayes import GaussianNB\n",
    "nb = GaussianNB()\n",
    "nb.fit(X_train,y_train)\n",
    "y_pred = nb.predict(X_test)"
   ]
  },
  {
   "cell_type": "code",
   "execution_count": 99,
   "metadata": {},
   "outputs": [
    {
     "name": "stdout",
     "output_type": "stream",
     "text": [
      "0.8021978021978022\n",
      "              precision    recall  f1-score   support\n",
      "\n",
      "           0       0.78      0.78      0.78        41\n",
      "           1       0.82      0.82      0.82        50\n",
      "\n",
      "   micro avg       0.80      0.80      0.80        91\n",
      "   macro avg       0.80      0.80      0.80        91\n",
      "weighted avg       0.80      0.80      0.80        91\n",
      "\n",
      "[[32  9]\n",
      " [ 9 41]]\n"
     ]
    },
    {
     "data": {
      "image/png": "[encoded data removed]",
      "text/plain": [
       "<Figure size 432x288 with 2 Axes>"
      ]
     },
     "metadata": {
      "needs_background": "light"
     },
     "output_type": "display_data"
    }
   ],
   "source": [
    "#Model Evaluation\n",
    "print(accuracy_score(y_test,y_pred))\n",
    "print(classification_report(y_test,y_pred))\n",
    "print(confusion_matrix(y_test,y_pred))\n",
    "sns.heatmap(confusion_matrix(y_test,y_pred),annot=True)\n",
    "fpr, tpr, thresholds = roc_curve(y_test, y_pred)\n"
   ]
  },
  {
   "cell_type": "code",
   "execution_count": 100,
   "metadata": {},
   "outputs": [
    {
     "data": {
      "text/plain": [
       "[<matplotlib.lines.Line2D at 0x1d620489da0>]"
      ]
     },
     "execution_count": 100,
     "metadata": {},
     "output_type": "execute_result"
    },
    {
     "data": {
      "image/png": "[encoded data removed]",
      "text/plain": [
       "<Figure size 432x288 with 1 Axes>"
      ]
     },
     "metadata": {
      "needs_background": "light"
     },
     "output_type": "display_data"
    }
   ],
   "source": [
    "plt.plot(fpr,tpr)"
   ]
  },
  {
   "cell_type": "code",
   "execution_count": 92,
   "metadata": {},
   "outputs": [],
   "source": [
    "from sklearn.tree import DecisionTreeClassifier\n",
    "dtc = DecisionTreeClassifier()\n",
    "dtc.fit(X_train,y_train)\n",
    "y_pred = dtc.predict(X_test)"
   ]
  },
  {
   "cell_type": "code",
   "execution_count": 93,
   "metadata": {},
   "outputs": [
    {
     "name": "stdout",
     "output_type": "stream",
     "text": [
      "0.7362637362637363\n",
      "              precision    recall  f1-score   support\n",
      "\n",
      "           0       0.67      0.80      0.73        41\n",
      "           1       0.81      0.68      0.74        50\n",
      "\n",
      "   micro avg       0.74      0.74      0.74        91\n",
      "   macro avg       0.74      0.74      0.74        91\n",
      "weighted avg       0.75      0.74      0.74        91\n",
      "\n",
      "[[33  8]\n",
      " [16 34]]\n"
     ]
    },
    {
     "data": {
      "text/plain": [
       "[<matplotlib.lines.Line2D at 0x1d61ffeb550>]"
      ]
     },
     "execution_count": 93,
     "metadata": {},
     "output_type": "execute_result"
    },
    {
     "data": {
      "image/png": "[encoded data removed]",
      "text/plain": [
       "<Figure size 432x288 with 2 Axes>"
      ]
     },
     "metadata": {
      "needs_background": "light"
     },
     "output_type": "display_data"
    }
   ],
   "source": [
    "#Model Evaluation\n",
    "print(accuracy_score(y_test,y_pred))\n",
    "print(classification_report(y_test,y_pred))\n",
    "print(confusion_matrix(y_test,y_pred))\n",
    "sns.heatmap(confusion_matrix(y_test,y_pred),annot=True)\n",
    "fpr, tpr, thresholds = roc_curve(y_test, y_pred)\n",
    "plt.plot(fpr,tpr)"
   ]
  },
  {
   "cell_type": "code",
   "execution_count": 94,
   "metadata": {},
   "outputs": [],
   "source": [
    "from sklearn.ensemble import RandomForestClassifier\n",
    "rf = RandomForestClassifier(n_estimators = 1000, random_state = 42)\n",
    "rf.fit(X_train,y_train)\n",
    "y_pred = rf.predict(X_test)"
   ]
  },
  {
   "cell_type": "code",
   "execution_count": 95,
   "metadata": {},
   "outputs": [
    {
     "name": "stdout",
     "output_type": "stream",
     "text": [
      "0.8021978021978022\n",
      "              precision    recall  f1-score   support\n",
      "\n",
      "           0       0.78      0.78      0.78        41\n",
      "           1       0.82      0.82      0.82        50\n",
      "\n",
      "   micro avg       0.80      0.80      0.80        91\n",
      "   macro avg       0.80      0.80      0.80        91\n",
      "weighted avg       0.80      0.80      0.80        91\n",
      "\n",
      "[[32  9]\n",
      " [ 9 41]]\n"
     ]
    },
    {
     "data": {
      "text/plain": [
       "[<matplotlib.lines.Line2D at 0x1d6200af8d0>]"
      ]
     },
     "execution_count": 95,
     "metadata": {},
     "output_type": "execute_result"
    },
    {
     "data": {
      "image/png": "[encoded data removed]",
      "text/plain": [
       "<Figure size 432x288 with 2 Axes>"
      ]
     },
     "metadata": {
      "needs_background": "light"
     },
     "output_type": "display_data"
    }
   ],
   "source": [
    "#Model Evaluation\n",
    "print(accuracy_score(y_test,y_pred))\n",
    "print(classification_report(y_test,y_pred))\n",
    "print(confusion_matrix(y_test,y_pred))\n",
    "sns.heatmap(confusion_matrix(y_test,y_pred),annot=True)\n",
    "fpr, tpr, thresholds = roc_curve(y_test, y_pred)\n"
   ]
  },
  {
   "cell_type": "code",
   "execution_count": null,
   "metadata": {},
   "outputs": [],
   "source": [
    "plt.plot(fpr,tpr)"
   ]
  },
  {
   "cell_type": "code",
   "execution_count": 96,
   "metadata": {},
   "outputs": [],
   "source": [
    "models_accuracy={}"
   ]
  },
  {
   "cell_type": "code",
   "execution_count": 97,
   "metadata": {},
   "outputs": [],
   "source": [
    "acc=log_reg.score(X_test,y_test)*100\n",
    "models_accuracy['Log_Reg'] = acc\n",
    "acc=knn.score(X_test,y_test)*100\n",
    "models_accuracy['KNN'] = acc\n",
    "acc=svm.score(X_test,y_test)*100\n",
    "models_accuracy['SVM'] = acc\n",
    "acc=nb.score(X_test,y_test)*100\n",
    "models_accuracy['Naive'] = acc\n",
    "acc=dtc.score(X_test,y_test)*100\n",
    "models_accuracy['Decision_Tree'] = acc\n",
    "acc=rf.score(X_test,y_test)*100\n",
    "models_accuracy['Random_Forest'] = acc"
   ]
  },
  {
   "cell_type": "code",
   "execution_count": 98,
   "metadata": {},
   "outputs": [
    {
     "data": {
      "image/png": "[encoded data removed]",
      "text/plain": [
       "<Figure size 432x288 with 1 Axes>"
      ]
     },
     "metadata": {
      "needs_background": "light"
     },
     "output_type": "display_data"
    }
   ],
   "source": [
    "sns.barplot(x=list(models_accuracy.keys()), y=list(models_accuracy.values()))\n",
    "plt.show()"
   ]
  },
  {
   "cell_type": "code",
   "execution_count": null,
   "metadata": {},
   "outputs": [],
   "source": []
  }
 ],
 "metadata": {
  "kernelspec": {
   "display_name": "Python 3",
   "language": "python",
   "name": "python3"
  },
  "language_info": {
   "codemirror_mode": {
    "name": "ipython",
    "version": 3
   },
   "file_extension": ".py",
   "mimetype": "text/x-python",
   "name": "python",
   "nbconvert_exporter": "python",
   "pygments_lexer": "ipython3",
   "version": "3.7.3"
  }
 },
 "nbformat": 4,
 "nbformat_minor": 2
}
