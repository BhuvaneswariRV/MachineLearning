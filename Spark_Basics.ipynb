{
  "nbformat": 4,
  "nbformat_minor": 0,
  "metadata": {
    "colab": {
      "name": "Spark_Basics.ipynb",
      "provenance": [],
      "toc_visible": true,
      "authorship_tag": "ABX9TyPyKIC3IFErtIBRImx4IaPw",
      "include_colab_link": true
    },
    "kernelspec": {
      "name": "python3",
      "display_name": "Python 3"
    },
    "language_info": {
      "name": "python"
    }
  },
  "cells": [
    {
      "cell_type": "markdown",
      "metadata": {
        "id": "view-in-github",
        "colab_type": "text"
      },
      "source": [
        "<a href=\"https://colab.research.google.com/github/BhuvaneswariRV/MachineLearning/blob/main/Spark_Basics.ipynb\" target=\"_parent\"><img src=\"https://colab.research.google.com/assets/colab-badge.svg\" alt=\"Open In Colab\"/></a>"
      ]
    },
    {
      "cell_type": "markdown",
      "metadata": {
        "id": "on9H1rGWH2F-"
      },
      "source": [
        "# Used the walmart_stock.csv to perform the below tasks"
      ]
    },
    {
      "cell_type": "markdown",
      "metadata": {
        "id": "KuM9oOdhIGcT"
      },
      "source": [
        "###Install pyspark"
      ]
    },
    {
      "cell_type": "code",
      "metadata": {
        "colab": {
          "base_uri": "https://localhost:8080/"
        },
        "id": "KFec2Ej6dh37",
        "outputId": "1aa28795-0f2b-48d4-d3a5-aaac8d89ee0a"
      },
      "source": [
        "!pip install pyspark"
      ],
      "execution_count": 1,
      "outputs": [
        {
          "output_type": "stream",
          "text": [
            "Requirement already satisfied: pyspark in /usr/local/lib/python3.7/dist-packages (3.1.2)\n",
            "Requirement already satisfied: py4j==0.10.9 in /usr/local/lib/python3.7/dist-packages (from pyspark) (0.10.9)\n"
          ],
          "name": "stdout"
        }
      ]
    },
    {
      "cell_type": "code",
      "metadata": {
        "id": "xRdj0icGevaz"
      },
      "source": [
        "#Import SparkSession\n",
        "from pyspark.sql import SparkSession"
      ],
      "execution_count": 2,
      "outputs": []
    },
    {
      "cell_type": "code",
      "metadata": {
        "id": "s_1SRgldfASq"
      },
      "source": [
        "session = SparkSession.builder.appName(\"spark_basics\").getOrCreate()"
      ],
      "execution_count": 3,
      "outputs": []
    },
    {
      "cell_type": "code",
      "metadata": {
        "id": "1FfX3Fjvh63n"
      },
      "source": [
        "#Read CSV\n",
        "df = session.read.csv('walmart_stock.csv',inferSchema=True,header=True)"
      ],
      "execution_count": 4,
      "outputs": []
    },
    {
      "cell_type": "code",
      "metadata": {
        "colab": {
          "base_uri": "https://localhost:8080/"
        },
        "id": "37brcqFpkkF1",
        "outputId": "c872660a-9d00-4ff7-afb6-7099c794a7b1"
      },
      "source": [
        "#What are the column names?\n",
        "df.columns"
      ],
      "execution_count": 5,
      "outputs": [
        {
          "output_type": "execute_result",
          "data": {
            "text/plain": [
              "['Date', 'Open', 'High', 'Low', 'Close', 'Volume', 'Adj Close']"
            ]
          },
          "metadata": {
            "tags": []
          },
          "execution_count": 5
        }
      ]
    },
    {
      "cell_type": "code",
      "metadata": {
        "colab": {
          "base_uri": "https://localhost:8080/"
        },
        "id": "unensxgGlHOk",
        "outputId": "3753110c-0d2c-4564-bcfe-431d421f154b"
      },
      "source": [
        "#How schema looks like?\n",
        "df.printSchema()"
      ],
      "execution_count": 6,
      "outputs": [
        {
          "output_type": "stream",
          "text": [
            "root\n",
            " |-- Date: string (nullable = true)\n",
            " |-- Open: double (nullable = true)\n",
            " |-- High: double (nullable = true)\n",
            " |-- Low: double (nullable = true)\n",
            " |-- Close: double (nullable = true)\n",
            " |-- Volume: integer (nullable = true)\n",
            " |-- Adj Close: double (nullable = true)\n",
            "\n"
          ],
          "name": "stdout"
        }
      ]
    },
    {
      "cell_type": "code",
      "metadata": {
        "colab": {
          "base_uri": "https://localhost:8080/"
        },
        "id": "u8vw17dTlSyU",
        "outputId": "920555f8-6249-4ea1-ce93-1958af95f952"
      },
      "source": [
        "# Print out the first 5 records\n",
        "df.head(5)"
      ],
      "execution_count": 7,
      "outputs": [
        {
          "output_type": "execute_result",
          "data": {
            "text/plain": [
              "[Row(Date='2012-01-03', Open=59.970001, High=61.060001, Low=59.869999, Close=60.330002, Volume=12668800, Adj Close=52.619234999999996),\n",
              " Row(Date='2012-01-04', Open=60.209998999999996, High=60.349998, Low=59.470001, Close=59.709998999999996, Volume=9593300, Adj Close=52.078475),\n",
              " Row(Date='2012-01-05', Open=59.349998, High=59.619999, Low=58.369999, Close=59.419998, Volume=12768200, Adj Close=51.825539),\n",
              " Row(Date='2012-01-06', Open=59.419998, High=59.450001, Low=58.869999, Close=59.0, Volume=8069400, Adj Close=51.45922),\n",
              " Row(Date='2012-01-09', Open=59.029999, High=59.549999, Low=58.919998, Close=59.18, Volume=6679300, Adj Close=51.616215000000004)]"
            ]
          },
          "metadata": {
            "tags": []
          },
          "execution_count": 7
        }
      ]
    },
    {
      "cell_type": "code",
      "metadata": {
        "colab": {
          "base_uri": "https://localhost:8080/"
        },
        "id": "dKZFk5uElknL",
        "outputId": "2df320f9-e528-428d-b1af-b23012f8c6cf"
      },
      "source": [
        "df.describe()"
      ],
      "execution_count": 8,
      "outputs": [
        {
          "output_type": "execute_result",
          "data": {
            "text/plain": [
              "DataFrame[summary: string, Date: string, Open: string, High: string, Low: string, Close: string, Volume: string, Adj Close: string]"
            ]
          },
          "metadata": {
            "tags": []
          },
          "execution_count": 8
        }
      ]
    },
    {
      "cell_type": "code",
      "metadata": {
        "colab": {
          "base_uri": "https://localhost:8080/"
        },
        "id": "IOtt5C0_lsWs",
        "outputId": "5cf8e46c-54d9-436e-cf4d-20516cd652ca"
      },
      "source": [
        "df.select(['Open', 'High', 'Low', 'Close', 'Volume', 'Adj Close']).describe().show()"
      ],
      "execution_count": 9,
      "outputs": [
        {
          "output_type": "stream",
          "text": [
            "+-------+------------------+-----------------+-----------------+-----------------+-----------------+-----------------+\n",
            "|summary|              Open|             High|              Low|            Close|           Volume|        Adj Close|\n",
            "+-------+------------------+-----------------+-----------------+-----------------+-----------------+-----------------+\n",
            "|  count|              1258|             1258|             1258|             1258|             1258|             1258|\n",
            "|   mean| 72.35785375357709|72.83938807631165| 71.9186009594594|72.38844998012726|8222093.481717011|67.23883848728146|\n",
            "| stddev|  6.76809024470826|6.768186808159218|6.744075756255496|6.756859163732991|  4519780.8431556|6.722609449996857|\n",
            "|    min|56.389998999999996|        57.060001|        56.299999|        56.419998|          2094900|        50.363689|\n",
            "|    max|         90.800003|        90.970001|            89.25|        90.470001|         80898100|84.91421600000001|\n",
            "+-------+------------------+-----------------+-----------------+-----------------+-----------------+-----------------+\n",
            "\n"
          ],
          "name": "stdout"
        }
      ]
    },
    {
      "cell_type": "markdown",
      "metadata": {
        "id": "kB35oA6NI-G5"
      },
      "source": [
        "## Change decimals in describe to 2 decimal points"
      ]
    },
    {
      "cell_type": "code",
      "metadata": {
        "colab": {
          "base_uri": "https://localhost:8080/"
        },
        "id": "rWi9RGyXryM-",
        "outputId": "88ba892b-7aa2-434c-8a9e-944fa7f34d15"
      },
      "source": [
        "df.describe().printSchema()"
      ],
      "execution_count": 10,
      "outputs": [
        {
          "output_type": "stream",
          "text": [
            "root\n",
            " |-- summary: string (nullable = true)\n",
            " |-- Date: string (nullable = true)\n",
            " |-- Open: string (nullable = true)\n",
            " |-- High: string (nullable = true)\n",
            " |-- Low: string (nullable = true)\n",
            " |-- Close: string (nullable = true)\n",
            " |-- Volume: string (nullable = true)\n",
            " |-- Adj Close: string (nullable = true)\n",
            "\n"
          ],
          "name": "stdout"
        }
      ]
    },
    {
      "cell_type": "code",
      "metadata": {
        "id": "xJMPpB5Clyi9"
      },
      "source": [
        "#Changing data types and loading csv with the predefined schema\n",
        "from pyspark.sql.types import StructField,FloatType,IntegerType,DateType,StructType"
      ],
      "execution_count": 11,
      "outputs": []
    },
    {
      "cell_type": "code",
      "metadata": {
        "id": "h1VC7wpVnNPj"
      },
      "source": [
        "schema = [StructField(\"Date\",DateType(),True),StructField(\"Open\",FloatType(),True),StructField(\"High\",FloatType(),True),\n",
        "          StructField(\"Low\",FloatType(),True),StructField(\"Close\",FloatType(),True),StructField(\"Volume\",IntegerType(),True),\n",
        "          StructField(\"Adj Close\",FloatType(),True)] "
      ],
      "execution_count": 12,
      "outputs": []
    },
    {
      "cell_type": "code",
      "metadata": {
        "id": "DNnVY2xjoDbi"
      },
      "source": [
        "struct = StructType(schema)"
      ],
      "execution_count": 13,
      "outputs": []
    },
    {
      "cell_type": "code",
      "metadata": {
        "id": "qIarQtMLozIz"
      },
      "source": [
        "df = session.read.csv('walmart_stock.csv',schema=struct,inferSchema=True,header=True)"
      ],
      "execution_count": 14,
      "outputs": []
    },
    {
      "cell_type": "code",
      "metadata": {
        "colab": {
          "base_uri": "https://localhost:8080/"
        },
        "id": "Mb9ALkSIo_-h",
        "outputId": "8427d157-6ed2-439a-f6ed-c10aaec63358"
      },
      "source": [
        "df.printSchema()"
      ],
      "execution_count": 15,
      "outputs": [
        {
          "output_type": "stream",
          "text": [
            "root\n",
            " |-- Date: date (nullable = true)\n",
            " |-- Open: float (nullable = true)\n",
            " |-- High: float (nullable = true)\n",
            " |-- Low: float (nullable = true)\n",
            " |-- Close: float (nullable = true)\n",
            " |-- Volume: integer (nullable = true)\n",
            " |-- Adj Close: float (nullable = true)\n",
            "\n"
          ],
          "name": "stdout"
        }
      ]
    },
    {
      "cell_type": "code",
      "metadata": {
        "id": "zlJwLQNCpGM6"
      },
      "source": [
        "from pyspark.sql.functions import format_number"
      ],
      "execution_count": 16,
      "outputs": []
    },
    {
      "cell_type": "code",
      "metadata": {
        "colab": {
          "base_uri": "https://localhost:8080/"
        },
        "id": "DCAQJPL2-EbL",
        "outputId": "16387a53-8e6f-4855-e5fe-ca21b9f72e8e"
      },
      "source": [
        "desc = df.describe()\n",
        "desc.select(desc['summary'],\n",
        "              format_number(desc['Open'].cast('double'),2).alias('Open'),\n",
        "              format_number(desc['High'].cast('double'),2).alias('High'),\n",
        "              format_number(desc['Low'].cast('double'),2).alias('Low'),\n",
        "              format_number(desc['Close'].cast('double'),2).alias('Close'),\n",
        "              desc['Volume'].cast('int').alias('Volume')\n",
        "             ).show()"
      ],
      "execution_count": 17,
      "outputs": [
        {
          "output_type": "stream",
          "text": [
            "+-------+--------+--------+--------+--------+--------+\n",
            "|summary|    Open|    High|     Low|   Close|  Volume|\n",
            "+-------+--------+--------+--------+--------+--------+\n",
            "|  count|1,258.00|1,258.00|1,258.00|1,258.00|    1258|\n",
            "|   mean|   72.36|   72.84|   71.92|   72.39| 8222093|\n",
            "| stddev|    6.77|    6.77|    6.74|    6.76| 4519780|\n",
            "|    min|   56.39|   57.06|   56.30|   56.42| 2094900|\n",
            "|    max|   90.80|   90.97|   89.25|   90.47|80898100|\n",
            "+-------+--------+--------+--------+--------+--------+\n",
            "\n"
          ],
          "name": "stdout"
        }
      ]
    },
    {
      "cell_type": "code",
      "metadata": {
        "id": "SMSkqzzQ6wQ9"
      },
      "source": [
        "#  new dataframe with a column called HV Ratio that is the ratio of the High Price versus volume of stock traded for a day.\n",
        "df1 = df.withColumn(\"HV Ratio\",df['High']/df['Volume'])"
      ],
      "execution_count": 18,
      "outputs": []
    },
    {
      "cell_type": "code",
      "metadata": {
        "colab": {
          "base_uri": "https://localhost:8080/"
        },
        "id": "a0N6Ev3JBVKV",
        "outputId": "12966d55-04e2-4348-f571-dd2f54295f8f"
      },
      "source": [
        "df1.select('HV Ratio').show()"
      ],
      "execution_count": 19,
      "outputs": [
        {
          "output_type": "stream",
          "text": [
            "+--------------------+\n",
            "|            HV Ratio|\n",
            "+--------------------+\n",
            "|4.819714682786927E-6|\n",
            "|6.290848662516662E-6|\n",
            "| 4.66941298944916E-6|\n",
            "| 7.36733843444859E-6|\n",
            "|8.915604814435727E-6|\n",
            "|8.644477449144044E-6|\n",
            "|9.351828386844425E-6|\n",
            "| 8.29141562102703E-6|\n",
            "|7.712212051589609E-6|\n",
            "|7.071764777688419...|\n",
            "|1.015495462653464...|\n",
            "|  6.5763540967921E-6|\n",
            "| 5.90145296180676E-6|\n",
            "|8.547679390846264E-6|\n",
            "|8.420709512685392E-6|\n",
            "|1.041448335142357...|\n",
            "|8.316075435382035E-6|\n",
            "|9.721183804158345E-6|\n",
            "|8.029435987746889E-6|\n",
            "|6.307432228123159E-6|\n",
            "+--------------------+\n",
            "only showing top 20 rows\n",
            "\n"
          ],
          "name": "stdout"
        }
      ]
    },
    {
      "cell_type": "code",
      "metadata": {
        "colab": {
          "base_uri": "https://localhost:8080/"
        },
        "id": "rMYA1057Bhys",
        "outputId": "932f0c24-812a-4605-97ab-cdc3026823aa"
      },
      "source": [
        "# What day had the Peak High in Price?\n",
        "df.orderBy(df[\"High\"].desc()).head(1)[0][0]"
      ],
      "execution_count": 20,
      "outputs": [
        {
          "output_type": "execute_result",
          "data": {
            "text/plain": [
              "datetime.date(2015, 1, 13)"
            ]
          },
          "metadata": {
            "tags": []
          },
          "execution_count": 20
        }
      ]
    },
    {
      "cell_type": "code",
      "metadata": {
        "id": "9P5aMjVDFBhl"
      },
      "source": [
        "from pyspark.sql.functions import avg,max,min,count,corr,year,month"
      ],
      "execution_count": 21,
      "outputs": []
    },
    {
      "cell_type": "code",
      "metadata": {
        "colab": {
          "base_uri": "https://localhost:8080/"
        },
        "id": "lg7ZlbDrDHL-",
        "outputId": "ee34e26c-2a88-45b2-c7b3-a0749a8bb11f"
      },
      "source": [
        "# mean of  Close\n",
        "df.select(avg(df['Close'])).show()"
      ],
      "execution_count": 22,
      "outputs": [
        {
          "output_type": "stream",
          "text": [
            "+-----------------+\n",
            "|       avg(Close)|\n",
            "+-----------------+\n",
            "|72.38844997363553|\n",
            "+-----------------+\n",
            "\n"
          ],
          "name": "stdout"
        }
      ]
    },
    {
      "cell_type": "code",
      "metadata": {
        "colab": {
          "base_uri": "https://localhost:8080/"
        },
        "id": "QJgpx3aGDOrb",
        "outputId": "3118fb32-7e5a-4248-e272-823a110a2b92"
      },
      "source": [
        "# max and min of Volume column\n",
        "df.select(max(df['Volume']),min(df['Volume'])).show()"
      ],
      "execution_count": 23,
      "outputs": [
        {
          "output_type": "stream",
          "text": [
            "+-----------+-----------+\n",
            "|max(Volume)|min(Volume)|\n",
            "+-----------+-----------+\n",
            "|   80898100|    2094900|\n",
            "+-----------+-----------+\n",
            "\n"
          ],
          "name": "stdout"
        }
      ]
    },
    {
      "cell_type": "code",
      "metadata": {
        "colab": {
          "base_uri": "https://localhost:8080/"
        },
        "id": "aNwZGJ5WD_-V",
        "outputId": "0f2fba2f-f079-473b-843a-1358c3f85566"
      },
      "source": [
        "# How many days was the Close lower than 60 dollars\n",
        "df.filter(df['Close']<60).count()"
      ],
      "execution_count": 24,
      "outputs": [
        {
          "output_type": "execute_result",
          "data": {
            "text/plain": [
              "81"
            ]
          },
          "metadata": {
            "tags": []
          },
          "execution_count": 24
        }
      ]
    },
    {
      "cell_type": "code",
      "metadata": {
        "colab": {
          "base_uri": "https://localhost:8080/"
        },
        "id": "-XnJjyqEF5Pu",
        "outputId": "1cd3acd5-5bea-47f6-a325-7ebeb7f327d8"
      },
      "source": [
        "# What percentage of the time was the High greater than 80 dollars ?\n",
        "\n",
        "(df.filter(df[\"High\"]>80).count()/df.count())*100"
      ],
      "execution_count": 25,
      "outputs": [
        {
          "output_type": "execute_result",
          "data": {
            "text/plain": [
              "9.141494435612083"
            ]
          },
          "metadata": {
            "tags": []
          },
          "execution_count": 25
        }
      ]
    },
    {
      "cell_type": "code",
      "metadata": {
        "colab": {
          "base_uri": "https://localhost:8080/"
        },
        "id": "5Vbd0GUcHcvw",
        "outputId": "beccffb6-5cdb-4138-a61f-915d9e696d8e"
      },
      "source": [
        "# What is the Pearson correlation between High and Volume?\n",
        "df.select(corr(\"High\",\"Volume\")).show()"
      ],
      "execution_count": 26,
      "outputs": [
        {
          "output_type": "stream",
          "text": [
            "+-------------------+\n",
            "| corr(High, Volume)|\n",
            "+-------------------+\n",
            "|-0.3384326061799556|\n",
            "+-------------------+\n",
            "\n"
          ],
          "name": "stdout"
        }
      ]
    },
    {
      "cell_type": "code",
      "metadata": {
        "colab": {
          "base_uri": "https://localhost:8080/"
        },
        "id": "jf5zYpYuKGMc",
        "outputId": "18ecf8ca-5511-425d-c62f-26dba4ac33f2"
      },
      "source": [
        "# What is the max High per year?\n",
        "year = df.withColumn(\"Year\",year(\"Date\"))\n",
        "max = year.groupBy('Year').max()\n",
        "max.select('Year','max(High)').show()"
      ],
      "execution_count": 27,
      "outputs": [
        {
          "output_type": "stream",
          "text": [
            "+----+---------+\n",
            "|Year|max(High)|\n",
            "+----+---------+\n",
            "|2015|    90.97|\n",
            "|2013|    81.37|\n",
            "|2014|    88.09|\n",
            "|2012|     77.6|\n",
            "|2016|    75.19|\n",
            "+----+---------+\n",
            "\n"
          ],
          "name": "stdout"
        }
      ]
    },
    {
      "cell_type": "code",
      "metadata": {
        "colab": {
          "base_uri": "https://localhost:8080/"
        },
        "id": "uyMxogEgKK1x",
        "outputId": "1c5b4876-dd2e-4dc1-cb70-ca01ae595166"
      },
      "source": [
        "# What is the average Close for each Calendar Month?\n",
        "month = df.withColumn(\"Month\",month(\"Date\"))\n",
        "monthavg = month.select(\"Month\",\"Close\").groupBy(\"Month\").mean()\n",
        "monthavg.select(\"Month\",\"avg(Close)\").orderBy('Month').show()"
      ],
      "execution_count": 28,
      "outputs": [
        {
          "output_type": "stream",
          "text": [
            "+-----+-----------------+\n",
            "|Month|       avg(Close)|\n",
            "+-----+-----------------+\n",
            "|    1| 71.4480196131338|\n",
            "|    2|71.30680438169499|\n",
            "|    3|71.77794376266337|\n",
            "|    4|72.97361900692894|\n",
            "|    5|72.30971685445533|\n",
            "|    6| 72.4953774506191|\n",
            "|    7|74.43971944078106|\n",
            "|    8| 73.0298185521906|\n",
            "|    9|72.18411782208611|\n",
            "|   10| 71.5785454489968|\n",
            "|   11|72.11108927207418|\n",
            "|   12|72.84792482628012|\n",
            "+-----+-----------------+\n",
            "\n"
          ],
          "name": "stdout"
        }
      ]
    },
    {
      "cell_type": "code",
      "metadata": {
        "id": "qJHs15YlLGRm"
      },
      "source": [
        ""
      ],
      "execution_count": 28,
      "outputs": []
    }
  ]
}