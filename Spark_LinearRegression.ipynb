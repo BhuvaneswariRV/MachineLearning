{
  "nbformat": 4,
  "nbformat_minor": 0,
  "metadata": {
    "colab": {
      "name": "Spark_LinearRegression.ipynb",
      "provenance": [],
      "authorship_tag": "ABX9TyMrBNM0qN1EFGZ7g6QQUm0s",
      "include_colab_link": true
    },
    "kernelspec": {
      "name": "python3",
      "display_name": "Python 3"
    },
    "language_info": {
      "name": "python"
    }
  },
  "cells": [
    {
      "cell_type": "markdown",
      "metadata": {
        "id": "view-in-github",
        "colab_type": "text"
      },
      "source": [
        "<a href=\"https://colab.research.google.com/github/BhuvaneswariRV/MachineLearning/blob/main/Spark_LinearRegression.ipynb\" target=\"_parent\"><img src=\"https://colab.research.google.com/assets/colab-badge.svg\" alt=\"Open In Colab\"/></a>"
      ]
    },
    {
      "cell_type": "markdown",
      "metadata": {
        "id": "RnHgGtni06YL"
      },
      "source": [
        "# Linear Regression Using Spark"
      ]
    },
    {
      "cell_type": "code",
      "metadata": {
        "colab": {
          "base_uri": "https://localhost:8080/"
        },
        "id": "6PLwOhOabj0R",
        "outputId": "8b48b115-d046-4e5a-baf1-5a76784569a5"
      },
      "source": [
        "#Install PySpark\n",
        "!pip install pyspark"
      ],
      "execution_count": 1,
      "outputs": [
        {
          "output_type": "stream",
          "text": [
            "Requirement already satisfied: pyspark in /usr/local/lib/python3.7/dist-packages (3.1.2)\n",
            "Requirement already satisfied: py4j==0.10.9 in /usr/local/lib/python3.7/dist-packages (from pyspark) (0.10.9)\n"
          ],
          "name": "stdout"
        }
      ]
    },
    {
      "cell_type": "code",
      "metadata": {
        "id": "Ma5oSJvZb9Fh"
      },
      "source": [
        "from pyspark.sql import SparkSession"
      ],
      "execution_count": 2,
      "outputs": []
    },
    {
      "cell_type": "code",
      "metadata": {
        "id": "16xSull8cK_q"
      },
      "source": [
        "session = SparkSession.builder.appName('Spark_linear_regression').getOrCreate()"
      ],
      "execution_count": 3,
      "outputs": []
    },
    {
      "cell_type": "code",
      "metadata": {
        "id": "OumnPTjucQjh"
      },
      "source": [
        "# Read csv\n",
        "data = session.read.csv('cruise_ship_info.csv',inferSchema=True,header=True)"
      ],
      "execution_count": 4,
      "outputs": []
    },
    {
      "cell_type": "code",
      "metadata": {
        "colab": {
          "base_uri": "https://localhost:8080/"
        },
        "id": "1BiGYGfyclb_",
        "outputId": "e424d1d1-3a51-4f35-b07f-e9ee1c933977"
      },
      "source": [
        "data.head()"
      ],
      "execution_count": 5,
      "outputs": [
        {
          "output_type": "execute_result",
          "data": {
            "text/plain": [
              "Row(Ship_name='Journey', Cruise_line='Azamara', Age=6, Tonnage=30.276999999999997, passengers=6.94, length=5.94, cabins=3.55, passenger_density=42.64, crew=3.55)"
            ]
          },
          "metadata": {
            "tags": []
          },
          "execution_count": 5
        }
      ]
    },
    {
      "cell_type": "code",
      "metadata": {
        "colab": {
          "base_uri": "https://localhost:8080/"
        },
        "id": "qj5zbyMccnZ_",
        "outputId": "a25d9864-3389-4f79-f7ee-024cee318dcb"
      },
      "source": [
        "data.describe().show()"
      ],
      "execution_count": 6,
      "outputs": [
        {
          "output_type": "stream",
          "text": [
            "+-------+---------+-----------+------------------+------------------+-----------------+-----------------+------------------+-----------------+-----------------+\n",
            "|summary|Ship_name|Cruise_line|               Age|           Tonnage|       passengers|           length|            cabins|passenger_density|             crew|\n",
            "+-------+---------+-----------+------------------+------------------+-----------------+-----------------+------------------+-----------------+-----------------+\n",
            "|  count|      158|        158|               158|               158|              158|              158|               158|              158|              158|\n",
            "|   mean| Infinity|       null|15.689873417721518| 71.28467088607599|18.45740506329114|8.130632911392404| 8.830000000000005|39.90094936708861|7.794177215189873|\n",
            "| stddev|     null|       null| 7.615691058751413|37.229540025907866|9.677094775143416|1.793473548054825|4.4714172221480615| 8.63921711391542|3.503486564627034|\n",
            "|    min|Adventure|    Azamara|                 4|             2.329|             0.66|             2.79|              0.33|             17.7|             0.59|\n",
            "|    max|Zuiderdam|   Windstar|                48|             220.0|             54.0|            11.82|              27.0|            71.43|             21.0|\n",
            "+-------+---------+-----------+------------------+------------------+-----------------+-----------------+------------------+-----------------+-----------------+\n",
            "\n"
          ],
          "name": "stdout"
        }
      ]
    },
    {
      "cell_type": "code",
      "metadata": {
        "colab": {
          "base_uri": "https://localhost:8080/"
        },
        "id": "2s-xdd29cyXe",
        "outputId": "3cf15081-65d9-44b9-c745-801a3ed15688"
      },
      "source": [
        "data.printSchema()"
      ],
      "execution_count": 7,
      "outputs": [
        {
          "output_type": "stream",
          "text": [
            "root\n",
            " |-- Ship_name: string (nullable = true)\n",
            " |-- Cruise_line: string (nullable = true)\n",
            " |-- Age: integer (nullable = true)\n",
            " |-- Tonnage: double (nullable = true)\n",
            " |-- passengers: double (nullable = true)\n",
            " |-- length: double (nullable = true)\n",
            " |-- cabins: double (nullable = true)\n",
            " |-- passenger_density: double (nullable = true)\n",
            " |-- crew: double (nullable = true)\n",
            "\n"
          ],
          "name": "stdout"
        }
      ]
    },
    {
      "cell_type": "markdown",
      "metadata": {
        "id": "6J3TD8Zq1jc6"
      },
      "source": [
        "### Check for Null in data set"
      ]
    },
    {
      "cell_type": "code",
      "metadata": {
        "id": "4355YYPYc2iE"
      },
      "source": [
        "data.createOrReplaceTempView(\"ship\")"
      ],
      "execution_count": 8,
      "outputs": []
    },
    {
      "cell_type": "code",
      "metadata": {
        "colab": {
          "base_uri": "https://localhost:8080/"
        },
        "id": "0QKxZxlqdUse",
        "outputId": "77aee05d-237a-40fb-fd49-74ea980c57ce"
      },
      "source": [
        "session.sql(\"select * from ship where Cruise_line is null\").show()"
      ],
      "execution_count": 9,
      "outputs": [
        {
          "output_type": "stream",
          "text": [
            "+---------+-----------+---+-------+----------+------+------+-----------------+----+\n",
            "|Ship_name|Cruise_line|Age|Tonnage|passengers|length|cabins|passenger_density|crew|\n",
            "+---------+-----------+---+-------+----------+------+------+-----------------+----+\n",
            "+---------+-----------+---+-------+----------+------+------+-----------------+----+\n",
            "\n"
          ],
          "name": "stdout"
        }
      ]
    },
    {
      "cell_type": "markdown",
      "metadata": {
        "id": "rLtNT9aT1sUk"
      },
      "source": [
        "### Replace String to categories"
      ]
    },
    {
      "cell_type": "code",
      "metadata": {
        "colab": {
          "base_uri": "https://localhost:8080/"
        },
        "id": "jheh2SUedkkg",
        "outputId": "87eb070d-6fc1-47d4-9b71-6cf63d8abe8a"
      },
      "source": [
        "from pyspark.sql.functions import countDistinct\n",
        "data.select(countDistinct('Cruise_line')).show()"
      ],
      "execution_count": 10,
      "outputs": [
        {
          "output_type": "stream",
          "text": [
            "+---------------------------+\n",
            "|count(DISTINCT Cruise_line)|\n",
            "+---------------------------+\n",
            "|                         20|\n",
            "+---------------------------+\n",
            "\n"
          ],
          "name": "stdout"
        }
      ]
    },
    {
      "cell_type": "code",
      "metadata": {
        "colab": {
          "base_uri": "https://localhost:8080/"
        },
        "id": "9IBzhQZ60EAT",
        "outputId": "82e10ea2-bfa7-423a-c553-a87f29d70bc1"
      },
      "source": [
        "from pyspark.ml.feature import StringIndexer\n",
        "indexer = StringIndexer(inputCol=\"Cruise_line\", outputCol=\"Cruise_Index\")\n",
        "indexed = indexer.fit(data).transform(data)\n",
        "indexed.show()"
      ],
      "execution_count": 11,
      "outputs": [
        {
          "output_type": "stream",
          "text": [
            "+-----------+-----------+---+------------------+----------+------+------+-----------------+----+------------+\n",
            "|  Ship_name|Cruise_line|Age|           Tonnage|passengers|length|cabins|passenger_density|crew|Cruise_Index|\n",
            "+-----------+-----------+---+------------------+----------+------+------+-----------------+----+------------+\n",
            "|    Journey|    Azamara|  6|30.276999999999997|      6.94|  5.94|  3.55|            42.64|3.55|        16.0|\n",
            "|      Quest|    Azamara|  6|30.276999999999997|      6.94|  5.94|  3.55|            42.64|3.55|        16.0|\n",
            "|Celebration|   Carnival| 26|            47.262|     14.86|  7.22|  7.43|             31.8| 6.7|         1.0|\n",
            "|   Conquest|   Carnival| 11|             110.0|     29.74|  9.53| 14.88|            36.99|19.1|         1.0|\n",
            "|    Destiny|   Carnival| 17|           101.353|     26.42|  8.92| 13.21|            38.36|10.0|         1.0|\n",
            "|    Ecstasy|   Carnival| 22|            70.367|     20.52|  8.55|  10.2|            34.29| 9.2|         1.0|\n",
            "|    Elation|   Carnival| 15|            70.367|     20.52|  8.55|  10.2|            34.29| 9.2|         1.0|\n",
            "|    Fantasy|   Carnival| 23|            70.367|     20.56|  8.55| 10.22|            34.23| 9.2|         1.0|\n",
            "|Fascination|   Carnival| 19|            70.367|     20.52|  8.55|  10.2|            34.29| 9.2|         1.0|\n",
            "|    Freedom|   Carnival|  6|110.23899999999999|      37.0|  9.51| 14.87|            29.79|11.5|         1.0|\n",
            "|      Glory|   Carnival| 10|             110.0|     29.74|  9.51| 14.87|            36.99|11.6|         1.0|\n",
            "|    Holiday|   Carnival| 28|            46.052|     14.52|  7.27|  7.26|            31.72| 6.6|         1.0|\n",
            "|Imagination|   Carnival| 18|            70.367|     20.52|  8.55|  10.2|            34.29| 9.2|         1.0|\n",
            "|Inspiration|   Carnival| 17|            70.367|     20.52|  8.55|  10.2|            34.29| 9.2|         1.0|\n",
            "|     Legend|   Carnival| 11|              86.0|     21.24|  9.63| 10.62|            40.49| 9.3|         1.0|\n",
            "|   Liberty*|   Carnival|  8|             110.0|     29.74|  9.51| 14.87|            36.99|11.6|         1.0|\n",
            "|    Miracle|   Carnival|  9|              88.5|     21.24|  9.63| 10.62|            41.67|10.3|         1.0|\n",
            "|   Paradise|   Carnival| 15|            70.367|     20.52|  8.55|  10.2|            34.29| 9.2|         1.0|\n",
            "|      Pride|   Carnival| 12|              88.5|     21.24|  9.63| 11.62|            41.67| 9.3|         1.0|\n",
            "|  Sensation|   Carnival| 20|            70.367|     20.52|  8.55|  10.2|            34.29| 9.2|         1.0|\n",
            "+-----------+-----------+---+------------------+----------+------+------+-----------------+----+------------+\n",
            "only showing top 20 rows\n",
            "\n"
          ],
          "name": "stdout"
        }
      ]
    },
    {
      "cell_type": "markdown",
      "metadata": {
        "id": "3jB6-wuo9hdA"
      },
      "source": [
        "## SetUp DataFrame"
      ]
    },
    {
      "cell_type": "code",
      "metadata": {
        "id": "Rjrh9YhJ9YfX"
      },
      "source": [
        "from pyspark.ml.linalg import Vectors\n",
        "from pyspark.ml.feature import VectorAssembler"
      ],
      "execution_count": 12,
      "outputs": []
    },
    {
      "cell_type": "code",
      "metadata": {
        "colab": {
          "base_uri": "https://localhost:8080/"
        },
        "id": "1w2YS4Lo9m_6",
        "outputId": "5e82a132-3cb8-4106-b86f-dbba60495b3e"
      },
      "source": [
        "indexed.columns"
      ],
      "execution_count": 13,
      "outputs": [
        {
          "output_type": "execute_result",
          "data": {
            "text/plain": [
              "['Ship_name',\n",
              " 'Cruise_line',\n",
              " 'Age',\n",
              " 'Tonnage',\n",
              " 'passengers',\n",
              " 'length',\n",
              " 'cabins',\n",
              " 'passenger_density',\n",
              " 'crew',\n",
              " 'Cruise_Index']"
            ]
          },
          "metadata": {
            "tags": []
          },
          "execution_count": 13
        }
      ]
    },
    {
      "cell_type": "code",
      "metadata": {
        "colab": {
          "base_uri": "https://localhost:8080/"
        },
        "id": "I8tpTP-g9qiR",
        "outputId": "7b49414e-b7d9-453b-efb7-aa0e20cc920d"
      },
      "source": [
        "assembler = VectorAssembler(\n",
        "    inputCols=['Age','Tonnage', 'passengers', 'length', 'cabins', 'passenger_density', 'Cruise_Index'],\n",
        "    outputCol=\"features\")\n",
        "data = assembler.transform(indexed)\n",
        "data.show()"
      ],
      "execution_count": 14,
      "outputs": [
        {
          "output_type": "stream",
          "text": [
            "+-----------+-----------+---+------------------+----------+------+------+-----------------+----+------------+--------------------+\n",
            "|  Ship_name|Cruise_line|Age|           Tonnage|passengers|length|cabins|passenger_density|crew|Cruise_Index|            features|\n",
            "+-----------+-----------+---+------------------+----------+------+------+-----------------+----+------------+--------------------+\n",
            "|    Journey|    Azamara|  6|30.276999999999997|      6.94|  5.94|  3.55|            42.64|3.55|        16.0|[6.0,30.276999999...|\n",
            "|      Quest|    Azamara|  6|30.276999999999997|      6.94|  5.94|  3.55|            42.64|3.55|        16.0|[6.0,30.276999999...|\n",
            "|Celebration|   Carnival| 26|            47.262|     14.86|  7.22|  7.43|             31.8| 6.7|         1.0|[26.0,47.262,14.8...|\n",
            "|   Conquest|   Carnival| 11|             110.0|     29.74|  9.53| 14.88|            36.99|19.1|         1.0|[11.0,110.0,29.74...|\n",
            "|    Destiny|   Carnival| 17|           101.353|     26.42|  8.92| 13.21|            38.36|10.0|         1.0|[17.0,101.353,26....|\n",
            "|    Ecstasy|   Carnival| 22|            70.367|     20.52|  8.55|  10.2|            34.29| 9.2|         1.0|[22.0,70.367,20.5...|\n",
            "|    Elation|   Carnival| 15|            70.367|     20.52|  8.55|  10.2|            34.29| 9.2|         1.0|[15.0,70.367,20.5...|\n",
            "|    Fantasy|   Carnival| 23|            70.367|     20.56|  8.55| 10.22|            34.23| 9.2|         1.0|[23.0,70.367,20.5...|\n",
            "|Fascination|   Carnival| 19|            70.367|     20.52|  8.55|  10.2|            34.29| 9.2|         1.0|[19.0,70.367,20.5...|\n",
            "|    Freedom|   Carnival|  6|110.23899999999999|      37.0|  9.51| 14.87|            29.79|11.5|         1.0|[6.0,110.23899999...|\n",
            "|      Glory|   Carnival| 10|             110.0|     29.74|  9.51| 14.87|            36.99|11.6|         1.0|[10.0,110.0,29.74...|\n",
            "|    Holiday|   Carnival| 28|            46.052|     14.52|  7.27|  7.26|            31.72| 6.6|         1.0|[28.0,46.052,14.5...|\n",
            "|Imagination|   Carnival| 18|            70.367|     20.52|  8.55|  10.2|            34.29| 9.2|         1.0|[18.0,70.367,20.5...|\n",
            "|Inspiration|   Carnival| 17|            70.367|     20.52|  8.55|  10.2|            34.29| 9.2|         1.0|[17.0,70.367,20.5...|\n",
            "|     Legend|   Carnival| 11|              86.0|     21.24|  9.63| 10.62|            40.49| 9.3|         1.0|[11.0,86.0,21.24,...|\n",
            "|   Liberty*|   Carnival|  8|             110.0|     29.74|  9.51| 14.87|            36.99|11.6|         1.0|[8.0,110.0,29.74,...|\n",
            "|    Miracle|   Carnival|  9|              88.5|     21.24|  9.63| 10.62|            41.67|10.3|         1.0|[9.0,88.5,21.24,9...|\n",
            "|   Paradise|   Carnival| 15|            70.367|     20.52|  8.55|  10.2|            34.29| 9.2|         1.0|[15.0,70.367,20.5...|\n",
            "|      Pride|   Carnival| 12|              88.5|     21.24|  9.63| 11.62|            41.67| 9.3|         1.0|[12.0,88.5,21.24,...|\n",
            "|  Sensation|   Carnival| 20|            70.367|     20.52|  8.55|  10.2|            34.29| 9.2|         1.0|[20.0,70.367,20.5...|\n",
            "+-----------+-----------+---+------------------+----------+------+------+-----------------+----+------------+--------------------+\n",
            "only showing top 20 rows\n",
            "\n"
          ],
          "name": "stdout"
        }
      ]
    },
    {
      "cell_type": "code",
      "metadata": {
        "id": "9FDP_aI5-kiy"
      },
      "source": [
        "data = data.select('features','crew')"
      ],
      "execution_count": 15,
      "outputs": []
    },
    {
      "cell_type": "markdown",
      "metadata": {
        "id": "NbL0f8Ga_0Xy"
      },
      "source": [
        "## Apply PCA"
      ]
    },
    {
      "cell_type": "code",
      "metadata": {
        "id": "tEVK1mjg-2r_"
      },
      "source": [
        "from pyspark.ml.feature import PCA"
      ],
      "execution_count": 16,
      "outputs": []
    },
    {
      "cell_type": "code",
      "metadata": {
        "colab": {
          "base_uri": "https://localhost:8080/"
        },
        "id": "glzJbjvA-4Q4",
        "outputId": "3e467807-5fbb-4593-9a8d-08b1aa3e619b"
      },
      "source": [
        "pca = PCA(k=5, inputCol=\"features\", outputCol=\"pcaFeatures\")\n",
        "model = pca.fit(data).transform(data)\n",
        "model.select('pcaFeatures').show()"
      ],
      "execution_count": 17,
      "outputs": [
        {
          "output_type": "stream",
          "text": [
            "+--------------------+\n",
            "|         pcaFeatures|\n",
            "+--------------------+\n",
            "|[28.9069668920941...|\n",
            "|[28.9069668920941...|\n",
            "|[46.1671959257090...|\n",
            "|[112.237912587011...|\n",
            "|[102.249639517772...|\n",
            "|[70.3748283363941...|\n",
            "|[71.2163003726564...|\n",
            "|[70.2670224725733...|\n",
            "|[70.7354592090780...|\n",
            "|[114.872573212663...|\n",
            "|[112.356178641863...|\n",
            "|[44.6756224114142...|\n",
            "|[70.8556694999726...|\n",
            "|[70.9758797908672...|\n",
            "|[86.8070790602045...|\n",
            "|[112.596599223652...|\n",
            "|[89.4195605544128...|\n",
            "|[71.2163003726564...|\n",
            "|[89.1684098333524...|\n",
            "|[70.6152489181834...|\n",
            "+--------------------+\n",
            "only showing top 20 rows\n",
            "\n"
          ],
          "name": "stdout"
        }
      ]
    },
    {
      "cell_type": "markdown",
      "metadata": {
        "id": "7b6ezU8s_5WJ"
      },
      "source": [
        "## Create and evaluate the linear model with and without PCA"
      ]
    },
    {
      "cell_type": "code",
      "metadata": {
        "id": "L4vmkO5Z_g6P"
      },
      "source": [
        "final_data = data.select(\"features\",'crew')"
      ],
      "execution_count": 18,
      "outputs": []
    },
    {
      "cell_type": "code",
      "metadata": {
        "id": "Cexa65P1ALZX"
      },
      "source": [
        "train_data,test_data = final_data.randomSplit([0.7,0.3])"
      ],
      "execution_count": 19,
      "outputs": []
    },
    {
      "cell_type": "code",
      "metadata": {
        "colab": {
          "base_uri": "https://localhost:8080/"
        },
        "id": "5WdhSXRsATfB",
        "outputId": "eb60cbcc-3f8c-4c05-8c8c-0b6ae966e176"
      },
      "source": [
        "from pyspark.ml.regression import LinearRegression\n",
        "linearReg = LinearRegression(labelCol='crew')\n",
        "linearRegModel = linearReg.fit(train_data)\n",
        "print(\"Coefficients: {} Intercept: {}\".format(linearRegModel.coefficients,linearRegModel.intercept))"
      ],
      "execution_count": 20,
      "outputs": [
        {
          "output_type": "stream",
          "text": [
            "Coefficients: [-0.009252190109599344,0.00839468529458932,-0.1025811781225782,0.43184313367301286,0.7702357987966898,0.005738094889316517,0.038288937732637265] Intercept: -1.4948801905445954\n"
          ],
          "name": "stdout"
        }
      ]
    },
    {
      "cell_type": "code",
      "metadata": {
        "colab": {
          "base_uri": "https://localhost:8080/"
        },
        "id": "4QnlKW8xAtmU",
        "outputId": "e277301f-fdba-46e6-89cd-dc40d344cd10"
      },
      "source": [
        "test_results = linearRegModel.evaluate(test_data)\n",
        "test_results.residuals.show()"
      ],
      "execution_count": 21,
      "outputs": [
        {
          "output_type": "stream",
          "text": [
            "+--------------------+\n",
            "|           residuals|\n",
            "+--------------------+\n",
            "| -1.2857381527488911|\n",
            "| -0.6231386047457494|\n",
            "|  -0.557746807258658|\n",
            "|-0.08307477479330494|\n",
            "| 0.49337685153943944|\n",
            "|  0.6980955640209796|\n",
            "| -0.7099687944962323|\n",
            "|-0.18102821646823486|\n",
            "| -0.2649606646655709|\n",
            "|-0.49602465042434574|\n",
            "| -0.5625606628064883|\n",
            "|  0.7434166656416341|\n",
            "|  0.2859961543601973|\n",
            "|  0.2852970989645689|\n",
            "| -0.3533084726968898|\n",
            "| 0.11156911743573161|\n",
            "| -1.3935649112055986|\n",
            "|-0.42528614898103534|\n",
            "|  0.7619210458608325|\n",
            "| -1.0843127210959986|\n",
            "+--------------------+\n",
            "only showing top 20 rows\n",
            "\n"
          ],
          "name": "stdout"
        }
      ]
    },
    {
      "cell_type": "code",
      "metadata": {
        "colab": {
          "base_uri": "https://localhost:8080/"
        },
        "id": "9PIXXAeSA4xP",
        "outputId": "5074de8c-c256-4155-8bee-aa1a43e0e9fc"
      },
      "source": [
        "test_results.r2"
      ],
      "execution_count": 22,
      "outputs": [
        {
          "output_type": "execute_result",
          "data": {
            "text/plain": [
              "0.9052718342415075"
            ]
          },
          "metadata": {
            "tags": []
          },
          "execution_count": 22
        }
      ]
    },
    {
      "cell_type": "code",
      "metadata": {
        "colab": {
          "base_uri": "https://localhost:8080/"
        },
        "id": "1tXO5oNmA_au",
        "outputId": "cbb13256-74dc-4232-e2a7-b23380ed8688"
      },
      "source": [
        "test_results.rootMeanSquaredError"
      ],
      "execution_count": 23,
      "outputs": [
        {
          "output_type": "execute_result",
          "data": {
            "text/plain": [
              "0.9158696082466363"
            ]
          },
          "metadata": {
            "tags": []
          },
          "execution_count": 23
        }
      ]
    },
    {
      "cell_type": "code",
      "metadata": {
        "id": "hqABqY-uBCxU"
      },
      "source": [
        "pca_final_data = model.select(\"pcaFeatures\",'crew')"
      ],
      "execution_count": 24,
      "outputs": []
    },
    {
      "cell_type": "code",
      "metadata": {
        "id": "pE7IPHsHBMu8"
      },
      "source": [
        "train_data,test_data = final_data.randomSplit([0.7,0.3])"
      ],
      "execution_count": 25,
      "outputs": []
    },
    {
      "cell_type": "code",
      "metadata": {
        "colab": {
          "base_uri": "https://localhost:8080/"
        },
        "id": "4R6kGL3fBZKS",
        "outputId": "262408f3-bd3f-402f-f42a-34511a30a5da"
      },
      "source": [
        "from pyspark.ml.regression import LinearRegression\n",
        "linearReg = LinearRegression(labelCol='crew')\n",
        "linearRegModel = linearReg.fit(train_data)\n",
        "print(\"Coefficients: {} Intercept: {}\".format(linearRegModel.coefficients,linearRegModel.intercept))"
      ],
      "execution_count": 26,
      "outputs": [
        {
          "output_type": "stream",
          "text": [
            "Coefficients: [-0.012505598939363559,0.01691241249824924,-0.20306908386212258,0.3742058687154651,0.940043025258437,-0.011488722278504792,0.05463818538364151] Intercept: -0.6453980318952609\n"
          ],
          "name": "stdout"
        }
      ]
    },
    {
      "cell_type": "code",
      "metadata": {
        "colab": {
          "base_uri": "https://localhost:8080/"
        },
        "id": "AoC4Qa_YBcoT",
        "outputId": "8ce4bd8b-52fb-46e2-fee2-1c406712840f"
      },
      "source": [
        "test_results = linearRegModel.evaluate(test_data)\n",
        "test_results.residuals.show()"
      ],
      "execution_count": 27,
      "outputs": [
        {
          "output_type": "stream",
          "text": [
            "+--------------------+\n",
            "|           residuals|\n",
            "+--------------------+\n",
            "| 0.38397728098039074|\n",
            "| 0.14598193718228458|\n",
            "| -1.7544320527174708|\n",
            "| -1.1593568484659187|\n",
            "|  0.4634336043910956|\n",
            "|  0.6200535412514654|\n",
            "|  0.5282407010512564|\n",
            "|-0.19276886452729514|\n",
            "|  0.3732586226260981|\n",
            "| -0.6424559427165004|\n",
            "| -0.6829628784882065|\n",
            "|   0.711624685473085|\n",
            "| -0.6336924024642911|\n",
            "| -0.3000019695763445|\n",
            "|  1.8744510941244523|\n",
            "| -0.2768119589898985|\n",
            "| -0.3699107962047741|\n",
            "|   1.172501461822927|\n",
            "|  0.9130855775143996|\n",
            "|-0.21962940062747016|\n",
            "+--------------------+\n",
            "only showing top 20 rows\n",
            "\n"
          ],
          "name": "stdout"
        }
      ]
    },
    {
      "cell_type": "code",
      "metadata": {
        "colab": {
          "base_uri": "https://localhost:8080/"
        },
        "id": "wSm21mwwBgJC",
        "outputId": "9c53bce2-f3b3-462a-f21a-578c842f145d"
      },
      "source": [
        "test_results.r2"
      ],
      "execution_count": 28,
      "outputs": [
        {
          "output_type": "execute_result",
          "data": {
            "text/plain": [
              "0.9607582957308911"
            ]
          },
          "metadata": {
            "tags": []
          },
          "execution_count": 28
        }
      ]
    },
    {
      "cell_type": "code",
      "metadata": {
        "colab": {
          "base_uri": "https://localhost:8080/"
        },
        "id": "ZtnLqpv9BjFW",
        "outputId": "cebd9230-dd51-43b0-81b2-921b559592fa"
      },
      "source": [
        "test_results.rootMeanSquaredError"
      ],
      "execution_count": 29,
      "outputs": [
        {
          "output_type": "execute_result",
          "data": {
            "text/plain": [
              "0.6765486739125269"
            ]
          },
          "metadata": {
            "tags": []
          },
          "execution_count": 29
        }
      ]
    },
    {
      "cell_type": "code",
      "metadata": {
        "id": "HC7rjYsdBmX0"
      },
      "source": [
        ""
      ],
      "execution_count": 29,
      "outputs": []
    }
  ]
}